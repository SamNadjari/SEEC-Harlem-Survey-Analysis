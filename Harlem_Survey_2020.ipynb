{
  "nbformat": 4,
  "nbformat_minor": 0,
  "metadata": {
    "colab": {
      "name": "Harlem_Survey_2020.ipynb",
      "provenance": [],
      "collapsed_sections": [],
      "toc_visible": true
    },
    "kernelspec": {
      "name": "python3",
      "display_name": "Python 3"
    }
  },
  "cells": [
    {
      "cell_type": "markdown",
      "metadata": {
        "id": "1tz2PwlCW70s",
        "colab_type": "text"
      },
      "source": [
        "# Set-up"
      ]
    },
    {
      "cell_type": "code",
      "metadata": {
        "id": "h4phUZzfsfmG",
        "colab_type": "code",
        "colab": {}
      },
      "source": [
        "import os\n",
        "import numpy as np\n",
        "import matplotlib\n",
        "import matplotlib.pyplot as plt\n",
        "import pandas as pd\n",
        "from sklearn.preprocessing import OrdinalEncoder\n",
        "np.random.seed(42)\n",
        "\n",
        "data = pd.read_csv(\"/surveys_merge.csv\", header=[0,1,2])"
      ],
      "execution_count": 0,
      "outputs": []
    },
    {
      "cell_type": "code",
      "metadata": {
        "id": "0hQDW72kqV1e",
        "colab_type": "code",
        "colab": {}
      },
      "source": [
        "# Where to save the figures\n",
        "PROJECT_ROOT_DIR = \".\"\n",
        "CHAPTER_ID = \"Harlem2019\"\n",
        "IMAGES_PATH = os.path.join(PROJECT_ROOT_DIR, \"images\", CHAPTER_ID)\n",
        "os.makedirs(IMAGES_PATH, exist_ok=True)\n",
        "\n",
        "def save_fig(fig_id, tight_layout=True, fig_extension=\"png\", resolution=300):\n",
        "  path = os.path.join(IMAGES_PATH, fig_id + \".\" + fig_extension)\n",
        "  print(\"Saving figure\", fig_id)\n",
        "  if tight_layout:\n",
        "    plt.tight_layout()\n",
        "  plt.savefig(path, format=fig_extension, dpi=resolution)"
      ],
      "execution_count": 0,
      "outputs": []
    },
    {
      "cell_type": "code",
      "metadata": {
        "id": "ySjwqGSjk5fG",
        "colab_type": "code",
        "outputId": "fe7f36cf-8492-4bb4-e55a-35066e05ee85",
        "colab": {
          "base_uri": "https://localhost:8080/",
          "height": 778
        }
      },
      "source": [
        "data.head()"
      ],
      "execution_count": 0,
      "outputs": [
        {
          "output_type": "execute_result",
          "data": {
            "text/html": [
              "<div>\n",
              "<style scoped>\n",
              "    .dataframe tbody tr th:only-of-type {\n",
              "        vertical-align: middle;\n",
              "    }\n",
              "\n",
              "    .dataframe tbody tr th {\n",
              "        vertical-align: top;\n",
              "    }\n",
              "\n",
              "    .dataframe thead tr th {\n",
              "        text-align: left;\n",
              "    }\n",
              "</style>\n",
              "<table border=\"1\" class=\"dataframe\">\n",
              "  <thead>\n",
              "    <tr>\n",
              "      <th></th>\n",
              "      <th>Q1_1</th>\n",
              "      <th>Q1_2</th>\n",
              "      <th>Q1_3</th>\n",
              "      <th>Q1_4</th>\n",
              "      <th>Q1_5</th>\n",
              "      <th>Q1_6</th>\n",
              "      <th>Q1_7</th>\n",
              "      <th>Q1_8</th>\n",
              "      <th>Q1_9</th>\n",
              "      <th>Q1_10</th>\n",
              "      <th>Q1_11</th>\n",
              "      <th>Q1_12</th>\n",
              "      <th>Q1_13</th>\n",
              "      <th>Q1_14</th>\n",
              "      <th>Q2_1</th>\n",
              "      <th>Q2_2</th>\n",
              "      <th>Q2_3</th>\n",
              "      <th>Q2_4</th>\n",
              "      <th>Q2_5</th>\n",
              "      <th>Q2_6</th>\n",
              "      <th>Q2_7</th>\n",
              "      <th>Q3_1</th>\n",
              "      <th>Q3_2</th>\n",
              "      <th>Q3_3</th>\n",
              "      <th>Q3_4</th>\n",
              "      <th>Q3_5</th>\n",
              "      <th>Q4_1</th>\n",
              "      <th>Q4_2</th>\n",
              "      <th>Q4_3</th>\n",
              "      <th>Q4_4</th>\n",
              "      <th>Q4_5</th>\n",
              "      <th>Q4_6</th>\n",
              "      <th>Q4_7</th>\n",
              "      <th>Q9_1</th>\n",
              "      <th>Q9_2</th>\n",
              "      <th>Q9_3</th>\n",
              "      <th>Q9_4</th>\n",
              "      <th>Q9_5</th>\n",
              "      <th>Q9_6</th>\n",
              "      <th>Q9_7</th>\n",
              "      <th>...</th>\n",
              "      <th>Q8_6</th>\n",
              "      <th>Q8_7</th>\n",
              "      <th>Q8_8</th>\n",
              "      <th>Q8_9</th>\n",
              "      <th>Q10_1</th>\n",
              "      <th>Q10_2</th>\n",
              "      <th>Q10_3</th>\n",
              "      <th>Q10_4</th>\n",
              "      <th>Q10_5</th>\n",
              "      <th>Q10_6</th>\n",
              "      <th>Q10_7</th>\n",
              "      <th>Q10_8</th>\n",
              "      <th>Q10_9</th>\n",
              "      <th>Q10_10</th>\n",
              "      <th>Q10_11</th>\n",
              "      <th>Q10_12</th>\n",
              "      <th>Q14_1</th>\n",
              "      <th>Q14_2</th>\n",
              "      <th>Q14_3</th>\n",
              "      <th>Q14_4</th>\n",
              "      <th>Q14_5</th>\n",
              "      <th>Q14_6</th>\n",
              "      <th>Q14_7</th>\n",
              "      <th>Q14_8</th>\n",
              "      <th>Q14_9</th>\n",
              "      <th>Q14_10</th>\n",
              "      <th>Q14_11</th>\n",
              "      <th>Q14_12</th>\n",
              "      <th>Q20_1</th>\n",
              "      <th>Q20_2</th>\n",
              "      <th>Q20_3</th>\n",
              "      <th>Q20_4</th>\n",
              "      <th>Q20_5</th>\n",
              "      <th>Q20_6</th>\n",
              "      <th>Q20_7</th>\n",
              "      <th>Q20_8</th>\n",
              "      <th>Q21</th>\n",
              "      <th>Q22</th>\n",
              "      <th>Q24</th>\n",
              "      <th>Q23</th>\n",
              "    </tr>\n",
              "    <tr>\n",
              "      <th></th>\n",
              "      <th>Please share your experience with computers and the Internet by addressing the following statements. - Used a computer</th>\n",
              "      <th>Please share your experience with computers and the Internet by addressing the following statements. - Surfed the Internet</th>\n",
              "      <th>Please share your experience with computers and the Internet by addressing the following statements. - Sent a message by electronic mail (e-mail)</th>\n",
              "      <th>Please share your experience with computers and the Internet by addressing the following statements. - Read news on the Internet</th>\n",
              "      <th>Please share your experience with computers and the Internet by addressing the following statements. - Played a computer game</th>\n",
              "      <th>Please share your experience with computers and the Internet by addressing the following statements. - Looked up information on the Internet</th>\n",
              "      <th>Please share your experience with computers and the Internet by addressing the following statements. - Searched for a job on the Internet.</th>\n",
              "      <th>Please share your experience with computers and the Internet by addressing the following statements. - Made a purchase on the Internet.</th>\n",
              "      <th>Please share your experience with computers and the Internet by addressing the following statements. - Used social media</th>\n",
              "      <th>Please share your experience with computers and the Internet by addressing the following statements. - Played a computer game on the Internet</th>\n",
              "      <th>Please share your experience with computers and the Internet by addressing the following statements. - Used virtual reality or augmented reality on the Internet</th>\n",
              "      <th>Please share your experience with computers and the Internet by addressing the following statements. - Conducted banking or financial transactions on the Internet.</th>\n",
              "      <th>Please share your experience with computers and the Internet by addressing the following statements. - Applied for a job on the Internet.</th>\n",
              "      <th>Please share your experience with computers and the Internet by addressing the following statements. - Looked up directions to a new location on the Internet.</th>\n",
              "      <th>Please share your experience with computers and the Internet by addressing the following statements. - Bought a computer</th>\n",
              "      <th>Please share your experience with computers and the Internet by addressing the following statements. - Connected new component to a computer, for example plugged in a web-based camera</th>\n",
              "      <th>Please share your experience with computers and the Internet by addressing the following statements. - Repaired or retrofitted a computer, for example installed a memory card</th>\n",
              "      <th>Please share your experience with computers and the Internet by addressing the following statements. - Installed software on a computer</th>\n",
              "      <th>Please share your experience with computers and the Internet by addressing the following statements. - Updated software on a computer</th>\n",
              "      <th>Please share your experience with computers and the Internet by addressing the following statements. - Addressed software errors, for example troubleshooting error</th>\n",
              "      <th>Please share your experience with computers and the Internet by addressing the following statements. - Wrote or coded new software</th>\n",
              "      <th>Please share your computer skills by addressing the following statements. - Created a webpage</th>\n",
              "      <th>Please share your computer skills by addressing the following statements. - Created a web-based application</th>\n",
              "      <th>Please share your computer skills by addressing the following statements. - Backed up files to protect against data loss</th>\n",
              "      <th>Please share your computer skills by addressing the following statements. - Installed software to protect a computer from viruses and malware</th>\n",
              "      <th>Please share your computer skills by addressing the following statements. - Updated software to protect it from security threats.</th>\n",
              "      <th>Please share how you access the Internet. What devices do you use to access the Internet? - Smartphone</th>\n",
              "      <th>Please share how you access the Internet. What devices do you use to access the Internet? - Laptop</th>\n",
              "      <th>Please share how you access the Internet. What devices do you use to access the Internet? - Home Computer</th>\n",
              "      <th>Please share how you access the Internet. What devices do you use to access the Internet? - Work Computer</th>\n",
              "      <th>Please share how you access the Internet. What devices do you use to access the Internet? - Tablet</th>\n",
              "      <th>Please share how you access the Internet. What devices do you use to access the Internet? - Home Television</th>\n",
              "      <th>Please share how you access the Internet. What devices do you use to access the Internet? - Library Computer</th>\n",
              "      <th>What resources do you use for learning new information? - Library</th>\n",
              "      <th>What resources do you use for learning new information? - Books</th>\n",
              "      <th>What resources do you use for learning new information? - Encyclopedia</th>\n",
              "      <th>What resources do you use for learning new information? - Internet</th>\n",
              "      <th>What resources do you use for learning new information? - Parents</th>\n",
              "      <th>What resources do you use for learning new information? - Religious text</th>\n",
              "      <th>What resources do you use for learning new information? - Television</th>\n",
              "      <th>...</th>\n",
              "      <th>I have asked a friend, family member or co-worker to complete any of the following tasks: - Look up information on the Internet</th>\n",
              "      <th>I have asked a friend, family member or co-worker to complete any of the following tasks: - Use social media</th>\n",
              "      <th>I have asked a friend, family member or co-worker to complete any of the following tasks: - Play a game on the Internet</th>\n",
              "      <th>I have asked a friend, family member or co-worker to complete any of the following tasks: - Use Virtual reality or augmented reality</th>\n",
              "      <th>The reasons that I do not use the Internet include: - Too difficult/frustrating</th>\n",
              "      <th>The reasons that I do not use the Internet include: - Physically unable</th>\n",
              "      <th>The reasons that I do not use the Internet include: - Don't have a computer</th>\n",
              "      <th>The reasons that I do not use the Internet include: - Don't know how / Don't have skills</th>\n",
              "      <th>The reasons that I do not use the Internet include: - Just not interested</th>\n",
              "      <th>The reasons that I do not use the Internet include: - Too old to learn</th>\n",
              "      <th>The reasons that I do not use the Internet include: - Too expensive</th>\n",
              "      <th>The reasons that I do not use the Internet include: - It's a waste of time</th>\n",
              "      <th>The reasons that I do not use the Internet include: - Don't have access</th>\n",
              "      <th>The reasons that I do not use the Internet include: - Don't need it or want it</th>\n",
              "      <th>The reasons that I do not use the Internet include: - Worried about privacy / viruses / spam</th>\n",
              "      <th>The reasons that I do not use the Internet include: - Too busy/Don't have time</th>\n",
              "      <th>Please share your thoughts on which organizations should be TRUSTED to store, manage, and share data. - Private companies</th>\n",
              "      <th>Please share your thoughts on which organizations should be TRUSTED to store, manage, and share data. - Universities and colleges</th>\n",
              "      <th>Please share your thoughts on which organizations should be TRUSTED to store, manage, and share data. - Police Departments</th>\n",
              "      <th>Please share your thoughts on which organizations should be TRUSTED to store, manage, and share data. - Religious organizations</th>\n",
              "      <th>Please share your thoughts on which organizations should be TRUSTED to store, manage, and share data. - Hospitals</th>\n",
              "      <th>Please share your thoughts on which organizations should be TRUSTED to store, manage, and share data. - Schools</th>\n",
              "      <th>Please share your thoughts on which organizations should be TRUSTED to store, manage, and share data. - Insurance Agencies</th>\n",
              "      <th>Please share your thoughts on which organizations should be TRUSTED to store, manage, and share data. - Media companies</th>\n",
              "      <th>Please share your thoughts on which organizations should be TRUSTED to store, manage, and share data. - Lawyers and legal firms</th>\n",
              "      <th>Please share your thoughts on which organizations should be TRUSTED to store, manage, and share data. - Accounting firms</th>\n",
              "      <th>Please share your thoughts on which organizations should be TRUSTED to store, manage, and share data. - Government housing authorities</th>\n",
              "      <th>Please share your thoughts on which organizations should be TRUSTED to store, manage, and share data. - Public Libraries</th>\n",
              "      <th>Here are some different forms of political and social action that people can take. Please indicate, for each one, whether you have done any of these things in the past year, whether you have done it inthe more distant past, whether you have not done it but might do it, or have not done it and wouldnever, under any circumstances, do it. - Signed a petition.</th>\n",
              "      <th>Here are some different forms of political and social action that people can take. Please indicate, for each one, whether you have done any of these things in the past year, whether you have done it inthe more distant past, whether you have not done it but might do it, or have not done it and wouldnever, under any circumstances, do it. - Boycotted, or deliberately bought certain products for political or environmental reasons.</th>\n",
              "      <th>Here are some different forms of political and social action that people can take. Please indicate, for each one, whether you have done any of these things in the past year, whether you have done it inthe more distant past, whether you have not done it but might do it, or have not done it and wouldnever, under any circumstances, do it. - Took part in a demonstration.</th>\n",
              "      <th>Here are some different forms of political and social action that people can take. Please indicate, for each one, whether you have done any of these things in the past year, whether you have done it inthe more distant past, whether you have not done it but might do it, or have not done it and wouldnever, under any circumstances, do it. - Attended a political meeting or rally.</th>\n",
              "      <th>Here are some different forms of political and social action that people can take. Please indicate, for each one, whether you have done any of these things in the past year, whether you have done it inthe more distant past, whether you have not done it but might do it, or have not done it and wouldnever, under any circumstances, do it. - Contacted, or attempted to contact, a politician or civil servant to express your views.</th>\n",
              "      <th>Here are some different forms of political and social action that people can take. Please indicate, for each one, whether you have done any of these things in the past year, whether you have done it inthe more distant past, whether you have not done it but might do it, or have not done it and wouldnever, under any circumstances, do it. - Donated money or raised funds for a social or political activity.</th>\n",
              "      <th>Here are some different forms of political and social action that people can take. Please indicate, for each one, whether you have done any of these things in the past year, whether you have done it inthe more distant past, whether you have not done it but might do it, or have not done it and wouldnever, under any circumstances, do it. - Contacted or appeared in the media to express your views.</th>\n",
              "      <th>Here are some different forms of political and social action that people can take. Please indicate, for each one, whether you have done any of these things in the past year, whether you have done it inthe more distant past, whether you have not done it but might do it, or have not done it and wouldnever, under any circumstances, do it. - Expressed political views on the Internet.</th>\n",
              "      <th>Are you</th>\n",
              "      <th>What is your highest level of formal education?</th>\n",
              "      <th>For statistical purposes only, could you please tell me your race/ethnicity?</th>\n",
              "      <th>For statistical purposes only, we need to know your total family income for 2017. Will you please tell me which of the following categories best represents your total family income?</th>\n",
              "    </tr>\n",
              "    <tr>\n",
              "      <th></th>\n",
              "      <th>{\"ImportId\":\"QID36_1\"}</th>\n",
              "      <th>{\"ImportId\":\"QID36_2\"}</th>\n",
              "      <th>{\"ImportId\":\"QID36_3\"}</th>\n",
              "      <th>{\"ImportId\":\"QID36_4\"}</th>\n",
              "      <th>{\"ImportId\":\"QID36_5\"}</th>\n",
              "      <th>{\"ImportId\":\"QID36_6\"}</th>\n",
              "      <th>{\"ImportId\":\"QID36_12\"}</th>\n",
              "      <th>{\"ImportId\":\"QID36_13\"}</th>\n",
              "      <th>{\"ImportId\":\"QID36_7\"}</th>\n",
              "      <th>{\"ImportId\":\"QID36_8\"}</th>\n",
              "      <th>{\"ImportId\":\"QID36_9\"}</th>\n",
              "      <th>{\"ImportId\":\"QID36_10\"}</th>\n",
              "      <th>{\"ImportId\":\"QID36_11\"}</th>\n",
              "      <th>{\"ImportId\":\"QID36_14\"}</th>\n",
              "      <th>{\"ImportId\":\"QID34_1\"}</th>\n",
              "      <th>{\"ImportId\":\"QID34_2\"}</th>\n",
              "      <th>{\"ImportId\":\"QID34_3\"}</th>\n",
              "      <th>{\"ImportId\":\"QID34_4\"}</th>\n",
              "      <th>{\"ImportId\":\"QID34_5\"}</th>\n",
              "      <th>{\"ImportId\":\"QID34_6\"}</th>\n",
              "      <th>{\"ImportId\":\"QID34_7\"}</th>\n",
              "      <th>{\"ImportId\":\"QID35_1\"}</th>\n",
              "      <th>{\"ImportId\":\"QID35_2\"}</th>\n",
              "      <th>{\"ImportId\":\"QID35_7\"}</th>\n",
              "      <th>{\"ImportId\":\"QID35_3\"}</th>\n",
              "      <th>{\"ImportId\":\"QID35_4\"}</th>\n",
              "      <th>{\"ImportId\":\"QID25_1\"}</th>\n",
              "      <th>{\"ImportId\":\"QID25_2\"}</th>\n",
              "      <th>{\"ImportId\":\"QID25_3\"}</th>\n",
              "      <th>{\"ImportId\":\"QID25_4\"}</th>\n",
              "      <th>{\"ImportId\":\"QID25_5\"}</th>\n",
              "      <th>{\"ImportId\":\"QID25_6\"}</th>\n",
              "      <th>{\"ImportId\":\"QID25_7\"}</th>\n",
              "      <th>{\"ImportId\":\"QID30_1\"}</th>\n",
              "      <th>{\"ImportId\":\"QID30_2\"}</th>\n",
              "      <th>{\"ImportId\":\"QID30_3\"}</th>\n",
              "      <th>{\"ImportId\":\"QID30_4\"}</th>\n",
              "      <th>{\"ImportId\":\"QID30_5\"}</th>\n",
              "      <th>{\"ImportId\":\"QID30_6\"}</th>\n",
              "      <th>{\"ImportId\":\"QID30_7\"}</th>\n",
              "      <th>...</th>\n",
              "      <th>{\"ImportId\":\"QID29_6\"}</th>\n",
              "      <th>{\"ImportId\":\"QID29_7\"}</th>\n",
              "      <th>{\"ImportId\":\"QID29_8\"}</th>\n",
              "      <th>{\"ImportId\":\"QID29_9\"}</th>\n",
              "      <th>{\"ImportId\":\"QID31_1\"}</th>\n",
              "      <th>{\"ImportId\":\"QID31_2\"}</th>\n",
              "      <th>{\"ImportId\":\"QID31_3\"}</th>\n",
              "      <th>{\"ImportId\":\"QID31_4\"}</th>\n",
              "      <th>{\"ImportId\":\"QID31_5\"}</th>\n",
              "      <th>{\"ImportId\":\"QID31_6\"}</th>\n",
              "      <th>{\"ImportId\":\"QID31_7\"}</th>\n",
              "      <th>{\"ImportId\":\"QID31_8\"}</th>\n",
              "      <th>{\"ImportId\":\"QID31_9\"}</th>\n",
              "      <th>{\"ImportId\":\"QID31_10\"}</th>\n",
              "      <th>{\"ImportId\":\"QID31_11\"}</th>\n",
              "      <th>{\"ImportId\":\"QID31_12\"}</th>\n",
              "      <th>{\"ImportId\":\"QID38_1\"}</th>\n",
              "      <th>{\"ImportId\":\"QID38_2\"}</th>\n",
              "      <th>{\"ImportId\":\"QID38_3\"}</th>\n",
              "      <th>{\"ImportId\":\"QID38_5\"}</th>\n",
              "      <th>{\"ImportId\":\"QID38_6\"}</th>\n",
              "      <th>{\"ImportId\":\"QID38_7\"}</th>\n",
              "      <th>{\"ImportId\":\"QID38_8\"}</th>\n",
              "      <th>{\"ImportId\":\"QID38_9\"}</th>\n",
              "      <th>{\"ImportId\":\"QID38_10\"}</th>\n",
              "      <th>{\"ImportId\":\"QID38_11\"}</th>\n",
              "      <th>{\"ImportId\":\"QID38_12\"}</th>\n",
              "      <th>{\"ImportId\":\"QID38_13\"}</th>\n",
              "      <th>{\"ImportId\":\"QID47_1\"}</th>\n",
              "      <th>{\"ImportId\":\"QID47_2\"}</th>\n",
              "      <th>{\"ImportId\":\"QID47_3\"}</th>\n",
              "      <th>{\"ImportId\":\"QID47_4\"}</th>\n",
              "      <th>{\"ImportId\":\"QID47_5\"}</th>\n",
              "      <th>{\"ImportId\":\"QID47_6\"}</th>\n",
              "      <th>{\"ImportId\":\"QID47_7\"}</th>\n",
              "      <th>{\"ImportId\":\"QID47_8\"}</th>\n",
              "      <th>{\"ImportId\":\"QID48\"}</th>\n",
              "      <th>{\"ImportId\":\"QID49\"}</th>\n",
              "      <th>{\"ImportId\":\"QID51\"}</th>\n",
              "      <th>{\"ImportId\":\"QID50\"}</th>\n",
              "    </tr>\n",
              "  </thead>\n",
              "  <tbody>\n",
              "    <tr>\n",
              "      <th>0</th>\n",
              "      <td>NaN</td>\n",
              "      <td>NaN</td>\n",
              "      <td>NaN</td>\n",
              "      <td>NaN</td>\n",
              "      <td>NaN</td>\n",
              "      <td>NaN</td>\n",
              "      <td>NaN</td>\n",
              "      <td>NaN</td>\n",
              "      <td>NaN</td>\n",
              "      <td>NaN</td>\n",
              "      <td>NaN</td>\n",
              "      <td>NaN</td>\n",
              "      <td>NaN</td>\n",
              "      <td>NaN</td>\n",
              "      <td>NaN</td>\n",
              "      <td>NaN</td>\n",
              "      <td>NaN</td>\n",
              "      <td>NaN</td>\n",
              "      <td>NaN</td>\n",
              "      <td>NaN</td>\n",
              "      <td>NaN</td>\n",
              "      <td>NaN</td>\n",
              "      <td>NaN</td>\n",
              "      <td>NaN</td>\n",
              "      <td>NaN</td>\n",
              "      <td>NaN</td>\n",
              "      <td>NaN</td>\n",
              "      <td>NaN</td>\n",
              "      <td>NaN</td>\n",
              "      <td>NaN</td>\n",
              "      <td>NaN</td>\n",
              "      <td>NaN</td>\n",
              "      <td>NaN</td>\n",
              "      <td>NaN</td>\n",
              "      <td>NaN</td>\n",
              "      <td>NaN</td>\n",
              "      <td>NaN</td>\n",
              "      <td>NaN</td>\n",
              "      <td>NaN</td>\n",
              "      <td>NaN</td>\n",
              "      <td>...</td>\n",
              "      <td>NaN</td>\n",
              "      <td>NaN</td>\n",
              "      <td>NaN</td>\n",
              "      <td>NaN</td>\n",
              "      <td>NaN</td>\n",
              "      <td>NaN</td>\n",
              "      <td>NaN</td>\n",
              "      <td>NaN</td>\n",
              "      <td>NaN</td>\n",
              "      <td>NaN</td>\n",
              "      <td>NaN</td>\n",
              "      <td>NaN</td>\n",
              "      <td>NaN</td>\n",
              "      <td>NaN</td>\n",
              "      <td>NaN</td>\n",
              "      <td>NaN</td>\n",
              "      <td>NaN</td>\n",
              "      <td>NaN</td>\n",
              "      <td>NaN</td>\n",
              "      <td>NaN</td>\n",
              "      <td>NaN</td>\n",
              "      <td>NaN</td>\n",
              "      <td>NaN</td>\n",
              "      <td>NaN</td>\n",
              "      <td>NaN</td>\n",
              "      <td>NaN</td>\n",
              "      <td>NaN</td>\n",
              "      <td>NaN</td>\n",
              "      <td>NaN</td>\n",
              "      <td>NaN</td>\n",
              "      <td>NaN</td>\n",
              "      <td>NaN</td>\n",
              "      <td>NaN</td>\n",
              "      <td>NaN</td>\n",
              "      <td>NaN</td>\n",
              "      <td>NaN</td>\n",
              "      <td>NaN</td>\n",
              "      <td>NaN</td>\n",
              "      <td>NaN</td>\n",
              "      <td>NaN</td>\n",
              "    </tr>\n",
              "    <tr>\n",
              "      <th>1</th>\n",
              "      <td>More than 15 times in the past year</td>\n",
              "      <td>More than 15 times in the past year</td>\n",
              "      <td>More than 15 times in the past year</td>\n",
              "      <td>More than 15 times in the past year</td>\n",
              "      <td>Not in the past year</td>\n",
              "      <td>More than 15 times in the past year</td>\n",
              "      <td>ONCE or TWICE in the past year</td>\n",
              "      <td>More than 15 times in the past year</td>\n",
              "      <td>More than 15 times in the past year</td>\n",
              "      <td>Not in the past year</td>\n",
              "      <td>Not in the past year</td>\n",
              "      <td>More than 15 times in the past year</td>\n",
              "      <td>Not in the past year</td>\n",
              "      <td>More than 15 times in the past year</td>\n",
              "      <td>Not in the past year</td>\n",
              "      <td>Within the last month</td>\n",
              "      <td>Not in the past year</td>\n",
              "      <td>Within the last month</td>\n",
              "      <td>Within the last month</td>\n",
              "      <td>Within the last month</td>\n",
              "      <td>Within the last month</td>\n",
              "      <td>Within the last month</td>\n",
              "      <td>Within the last month</td>\n",
              "      <td>Within the last month</td>\n",
              "      <td>Within the last month</td>\n",
              "      <td>Within the last month</td>\n",
              "      <td>Check all that apply</td>\n",
              "      <td>Check all that apply</td>\n",
              "      <td>NaN</td>\n",
              "      <td>NaN</td>\n",
              "      <td>NaN</td>\n",
              "      <td>NaN</td>\n",
              "      <td>NaN</td>\n",
              "      <td>NaN</td>\n",
              "      <td>Check all that apply</td>\n",
              "      <td>Check all that apply</td>\n",
              "      <td>Check all that apply</td>\n",
              "      <td>NaN</td>\n",
              "      <td>NaN</td>\n",
              "      <td>NaN</td>\n",
              "      <td>...</td>\n",
              "      <td>More than 15 times in the past year.</td>\n",
              "      <td>More than 15 times in the past year.</td>\n",
              "      <td>Not in the past year</td>\n",
              "      <td>More than 15 times in the past year.</td>\n",
              "      <td>NaN</td>\n",
              "      <td>NaN</td>\n",
              "      <td>NaN</td>\n",
              "      <td>NaN</td>\n",
              "      <td>NaN</td>\n",
              "      <td>NaN</td>\n",
              "      <td>NaN</td>\n",
              "      <td>NaN</td>\n",
              "      <td>NaN</td>\n",
              "      <td>NaN</td>\n",
              "      <td>NaN</td>\n",
              "      <td>NaN</td>\n",
              "      <td>Somewhat agree</td>\n",
              "      <td>Somewhat agree</td>\n",
              "      <td>Somewhat agree</td>\n",
              "      <td>Somewhat disagree</td>\n",
              "      <td>Strongly agree</td>\n",
              "      <td>Somewhat agree</td>\n",
              "      <td>Somewhat agree</td>\n",
              "      <td>Somewhat disagree</td>\n",
              "      <td>Somewhat agree</td>\n",
              "      <td>Somewhat agree</td>\n",
              "      <td>Somewhat agree</td>\n",
              "      <td>Somewhat disagree</td>\n",
              "      <td>Have done it in the more distant past</td>\n",
              "      <td>Have not done it but might do it</td>\n",
              "      <td>Have not done it but might do it</td>\n",
              "      <td>Have done it in the past year</td>\n",
              "      <td>Have not done it but might do it</td>\n",
              "      <td>Have done it in the past year</td>\n",
              "      <td>Have done it in the past year</td>\n",
              "      <td>Have done it in the past year</td>\n",
              "      <td>Male</td>\n",
              "      <td>NaN</td>\n",
              "      <td>Hispanic / Latino</td>\n",
              "      <td>$50,000 - $74,999</td>\n",
              "    </tr>\n",
              "    <tr>\n",
              "      <th>2</th>\n",
              "      <td>More than 15 times in the past year</td>\n",
              "      <td>More than 15 times in the past year</td>\n",
              "      <td>More than 15 times in the past year</td>\n",
              "      <td>More than 15 times in the past year</td>\n",
              "      <td>More than 15 times in the past year</td>\n",
              "      <td>More than 15 times in the past year</td>\n",
              "      <td>More than 15 times in the past year</td>\n",
              "      <td>More than 15 times in the past year</td>\n",
              "      <td>More than 15 times in the past year</td>\n",
              "      <td>More than 15 times in the past year</td>\n",
              "      <td>ONCE or TWICE in the past year</td>\n",
              "      <td>More than 15 times in the past year</td>\n",
              "      <td>More than 15 times in the past year</td>\n",
              "      <td>More than 15 times in the past year</td>\n",
              "      <td>Not in the past year</td>\n",
              "      <td>Within the last month</td>\n",
              "      <td>NaN</td>\n",
              "      <td>Within the last year</td>\n",
              "      <td>Within the last month</td>\n",
              "      <td>Within the last year</td>\n",
              "      <td>Within the last year</td>\n",
              "      <td>NaN</td>\n",
              "      <td>Within the last month</td>\n",
              "      <td>Within the last month</td>\n",
              "      <td>Within the last year</td>\n",
              "      <td>Within the last year</td>\n",
              "      <td>Check all that apply</td>\n",
              "      <td>Check all that apply</td>\n",
              "      <td>NaN</td>\n",
              "      <td>Check all that apply</td>\n",
              "      <td>Check all that apply</td>\n",
              "      <td>Check all that apply</td>\n",
              "      <td>NaN</td>\n",
              "      <td>NaN</td>\n",
              "      <td>Check all that apply</td>\n",
              "      <td>NaN</td>\n",
              "      <td>Check all that apply</td>\n",
              "      <td>Check all that apply</td>\n",
              "      <td>NaN</td>\n",
              "      <td>Check all that apply</td>\n",
              "      <td>...</td>\n",
              "      <td>More than 15 times in the past year.</td>\n",
              "      <td>More than 15 times in the past year.</td>\n",
              "      <td>Not in the past year</td>\n",
              "      <td>ONCE or TWICE in the past year.</td>\n",
              "      <td>NaN</td>\n",
              "      <td>NaN</td>\n",
              "      <td>NaN</td>\n",
              "      <td>NaN</td>\n",
              "      <td>NaN</td>\n",
              "      <td>NaN</td>\n",
              "      <td>NaN</td>\n",
              "      <td>NaN</td>\n",
              "      <td>NaN</td>\n",
              "      <td>NaN</td>\n",
              "      <td>NaN</td>\n",
              "      <td>NaN</td>\n",
              "      <td>Somewhat agree</td>\n",
              "      <td>Somewhat agree</td>\n",
              "      <td>Somewhat agree</td>\n",
              "      <td>Somewhat agree</td>\n",
              "      <td>Somewhat agree</td>\n",
              "      <td>Somewhat agree</td>\n",
              "      <td>Somewhat agree</td>\n",
              "      <td>Somewhat agree</td>\n",
              "      <td>Neither agree nor disagree</td>\n",
              "      <td>Neither agree nor disagree</td>\n",
              "      <td>Somewhat agree</td>\n",
              "      <td>Somewhat agree</td>\n",
              "      <td>NaN</td>\n",
              "      <td>NaN</td>\n",
              "      <td>NaN</td>\n",
              "      <td>NaN</td>\n",
              "      <td>NaN</td>\n",
              "      <td>NaN</td>\n",
              "      <td>NaN</td>\n",
              "      <td>NaN</td>\n",
              "      <td>Female</td>\n",
              "      <td>Attended graduate or profession school, but di...</td>\n",
              "      <td>Black / African American</td>\n",
              "      <td>$150,000 - $199,999</td>\n",
              "    </tr>\n",
              "    <tr>\n",
              "      <th>3</th>\n",
              "      <td>More than 15 times in the past year</td>\n",
              "      <td>More than 15 times in the past year</td>\n",
              "      <td>More than 15 times in the past year</td>\n",
              "      <td>More than 15 times in the past year</td>\n",
              "      <td>More than 15 times in the past year</td>\n",
              "      <td>More than 15 times in the past year</td>\n",
              "      <td>More than 15 times in the past year</td>\n",
              "      <td>More than 15 times in the past year</td>\n",
              "      <td>More than 15 times in the past year</td>\n",
              "      <td>More than 15 times in the past year</td>\n",
              "      <td>More than 15 times in the past year</td>\n",
              "      <td>More than 15 times in the past year</td>\n",
              "      <td>More than 15 times in the past year</td>\n",
              "      <td>More than 15 times in the past year</td>\n",
              "      <td>Not in the past year</td>\n",
              "      <td>Within the last year</td>\n",
              "      <td>More than 5 years ago</td>\n",
              "      <td>Not in the past year</td>\n",
              "      <td>Within the last year</td>\n",
              "      <td>Within the last year</td>\n",
              "      <td>Never in my life</td>\n",
              "      <td>Within the last year</td>\n",
              "      <td>More than 5 years ago</td>\n",
              "      <td>Within the last month</td>\n",
              "      <td>Within the last year</td>\n",
              "      <td>Within the last year</td>\n",
              "      <td>Check all that apply</td>\n",
              "      <td>Check all that apply</td>\n",
              "      <td>NaN</td>\n",
              "      <td>Check all that apply</td>\n",
              "      <td>NaN</td>\n",
              "      <td>Check all that apply</td>\n",
              "      <td>Check all that apply</td>\n",
              "      <td>Check all that apply</td>\n",
              "      <td>Check all that apply</td>\n",
              "      <td>Check all that apply</td>\n",
              "      <td>Check all that apply</td>\n",
              "      <td>Check all that apply</td>\n",
              "      <td>NaN</td>\n",
              "      <td>Check all that apply</td>\n",
              "      <td>...</td>\n",
              "      <td>Never in my life</td>\n",
              "      <td>Never in my life</td>\n",
              "      <td>Never in my life</td>\n",
              "      <td>Never in my life</td>\n",
              "      <td>NaN</td>\n",
              "      <td>NaN</td>\n",
              "      <td>NaN</td>\n",
              "      <td>NaN</td>\n",
              "      <td>NaN</td>\n",
              "      <td>NaN</td>\n",
              "      <td>NaN</td>\n",
              "      <td>NaN</td>\n",
              "      <td>NaN</td>\n",
              "      <td>NaN</td>\n",
              "      <td>NaN</td>\n",
              "      <td>NaN</td>\n",
              "      <td>Neither agree nor disagree</td>\n",
              "      <td>Strongly agree</td>\n",
              "      <td>Strongly agree</td>\n",
              "      <td>Neither agree nor disagree</td>\n",
              "      <td>Strongly agree</td>\n",
              "      <td>Strongly agree</td>\n",
              "      <td>Strongly agree</td>\n",
              "      <td>Strongly disagree</td>\n",
              "      <td>Strongly agree</td>\n",
              "      <td>Strongly agree</td>\n",
              "      <td>NaN</td>\n",
              "      <td>Neither agree nor disagree</td>\n",
              "      <td>Have done it in the past year</td>\n",
              "      <td>Have done it in the past year</td>\n",
              "      <td>Have done it in the past year</td>\n",
              "      <td>Have done it in the past year</td>\n",
              "      <td>Have done it in the past year</td>\n",
              "      <td>Have done it in the past year</td>\n",
              "      <td>Have done it in the past year</td>\n",
              "      <td>Have done it in the past year</td>\n",
              "      <td>Female</td>\n",
              "      <td>Graduated from a 4-year college</td>\n",
              "      <td>Black / African American</td>\n",
              "      <td>$150,000 - $199,999</td>\n",
              "    </tr>\n",
              "    <tr>\n",
              "      <th>4</th>\n",
              "      <td>More than 15 times in the past year</td>\n",
              "      <td>More than 15 times in the past year</td>\n",
              "      <td>More than 15 times in the past year</td>\n",
              "      <td>More than 15 times in the past year</td>\n",
              "      <td>More than 15 times in the past year</td>\n",
              "      <td>More than 15 times in the past year</td>\n",
              "      <td>More than 15 times in the past year</td>\n",
              "      <td>More than 15 times in the past year</td>\n",
              "      <td>More than 15 times in the past year</td>\n",
              "      <td>More than 15 times in the past year</td>\n",
              "      <td>Never in my life</td>\n",
              "      <td>More than 15 times in the past year</td>\n",
              "      <td>More than 15 times in the past year</td>\n",
              "      <td>More than 15 times in the past year</td>\n",
              "      <td>More than 5 years ago</td>\n",
              "      <td>Never in my life</td>\n",
              "      <td>Never in my life</td>\n",
              "      <td>More than 5 years ago</td>\n",
              "      <td>Within the last month</td>\n",
              "      <td>Within the last year</td>\n",
              "      <td>Within the last year</td>\n",
              "      <td>Not in the past year</td>\n",
              "      <td>Never in my life</td>\n",
              "      <td>Within the last month</td>\n",
              "      <td>Not in the past year</td>\n",
              "      <td>Within the last year</td>\n",
              "      <td>Check all that apply</td>\n",
              "      <td>Check all that apply</td>\n",
              "      <td>NaN</td>\n",
              "      <td>NaN</td>\n",
              "      <td>NaN</td>\n",
              "      <td>NaN</td>\n",
              "      <td>NaN</td>\n",
              "      <td>Check all that apply</td>\n",
              "      <td>Check all that apply</td>\n",
              "      <td>Check all that apply</td>\n",
              "      <td>Check all that apply</td>\n",
              "      <td>Check all that apply</td>\n",
              "      <td>Check all that apply</td>\n",
              "      <td>Check all that apply</td>\n",
              "      <td>...</td>\n",
              "      <td>Three or more times in the past year</td>\n",
              "      <td>More than 15 times in the past year.</td>\n",
              "      <td>Not in the past year</td>\n",
              "      <td>Never in my life</td>\n",
              "      <td>NaN</td>\n",
              "      <td>NaN</td>\n",
              "      <td>NaN</td>\n",
              "      <td>NaN</td>\n",
              "      <td>NaN</td>\n",
              "      <td>NaN</td>\n",
              "      <td>NaN</td>\n",
              "      <td>NaN</td>\n",
              "      <td>NaN</td>\n",
              "      <td>NaN</td>\n",
              "      <td>NaN</td>\n",
              "      <td>NaN</td>\n",
              "      <td>Somewhat disagree</td>\n",
              "      <td>Somewhat disagree</td>\n",
              "      <td>Strongly agree</td>\n",
              "      <td>Strongly disagree</td>\n",
              "      <td>Strongly agree</td>\n",
              "      <td>Strongly agree</td>\n",
              "      <td>Strongly agree</td>\n",
              "      <td>Strongly agree</td>\n",
              "      <td>Strongly agree</td>\n",
              "      <td>Strongly agree</td>\n",
              "      <td>Strongly agree</td>\n",
              "      <td>Neither agree nor disagree</td>\n",
              "      <td>Have done it in the more distant past</td>\n",
              "      <td>Have done it in the past year</td>\n",
              "      <td>Have not done it and would never do it</td>\n",
              "      <td>Have not done it and would never do it</td>\n",
              "      <td>Have not done it but might do it</td>\n",
              "      <td>Have done it in the past year</td>\n",
              "      <td>Have done it in the past year</td>\n",
              "      <td>Have done it in the past year</td>\n",
              "      <td>Male</td>\n",
              "      <td>Graduated from a graduate or professional scho...</td>\n",
              "      <td>Other</td>\n",
              "      <td>$15,000 - $24,999</td>\n",
              "    </tr>\n",
              "  </tbody>\n",
              "</table>\n",
              "<p>5 rows × 113 columns</p>\n",
              "</div>"
            ],
            "text/plain": [
              "                                                                                                                    Q1_1  ...                                                                                                                                                                                   Q23\n",
              "  Please share your experience with computers and the Internet by addressing the following statements. - Used a computer  ... For statistical purposes only, we need to know your total family income for 2017. Will you please tell me which of the following categories best represents your total family income?\n",
              "                                                                                                  {\"ImportId\":\"QID36_1\"}  ...                                                                                                                                                                  {\"ImportId\":\"QID50\"}\n",
              "0                                                NaN                                                                      ...                                                NaN                                                                                                                                   \n",
              "1                More than 15 times in the past year                                                                      ...                                  $50,000 - $74,999                                                                                                                                   \n",
              "2                More than 15 times in the past year                                                                      ...                                $150,000 - $199,999                                                                                                                                   \n",
              "3                More than 15 times in the past year                                                                      ...                                $150,000 - $199,999                                                                                                                                   \n",
              "4                More than 15 times in the past year                                                                      ...                                  $15,000 - $24,999                                                                                                                                   \n",
              "\n",
              "[5 rows x 113 columns]"
            ]
          },
          "metadata": {
            "tags": []
          },
          "execution_count": 3
        }
      ]
    },
    {
      "cell_type": "markdown",
      "metadata": {
        "id": "bNpOUpGZpqem",
        "colab_type": "text"
      },
      "source": [
        "## Preprocessing"
      ]
    },
    {
      "cell_type": "code",
      "metadata": {
        "id": "vv1L1-eQ1r_I",
        "colab_type": "code",
        "colab": {}
      },
      "source": [
        "Q1_ANSWER_MAP = {\"Never in my life\" : 0, \"Not in the past year\" : 1, \"ONCE or TWICE in the past year\" : 2, \n",
        "               \"Three or more times in the past year\" : 3, \"More than 15 times in the past year\" : 4}\n",
        "data.iloc[:, :14] = data.iloc[:, :14].replace(Q1_ANSWER_MAP)        "
      ],
      "execution_count": 0,
      "outputs": []
    },
    {
      "cell_type": "code",
      "metadata": {
        "id": "CxAE-X8f2Suq",
        "colab_type": "code",
        "colab": {}
      },
      "source": [
        "Q2_3_ANSWER_MAP = {\"Never in my life\" : 0, \"More than 5 years ago\" : 1, \"Not in the past year\" : 2, \n",
        "               \"Within the last year\" : 3, \"Within the last month\" : 4}\n",
        "data.iloc[:, 14:26] = data.iloc[:, 14:26].replace(Q2_3_ANSWER_MAP)  "
      ],
      "execution_count": 0,
      "outputs": []
    },
    {
      "cell_type": "code",
      "metadata": {
        "id": "26-Eg4zi34H-",
        "colab_type": "code",
        "colab": {}
      },
      "source": [
        "Q4_9_ANSWER_MAP = {float(\"NaN\"): 1, \"Check all that apply\": 0}\n",
        "data.iloc[:, 26:43] = data.iloc[:, 26:43].replace(Q4_9_ANSWER_MAP)"
      ],
      "execution_count": 0,
      "outputs": []
    },
    {
      "cell_type": "code",
      "metadata": {
        "id": "KwYXAnrF4n91",
        "colab_type": "code",
        "colab": {}
      },
      "source": [
        "Q5_ANSWER_MAP = {\"Strongly disagree\" : -2, \"Disagree\" : -1, \"Neither agree nor disagree\" : 0, \n",
        "                 \"Agree\" : 1, \"Strongly Agree\": 2, \"Strongly agree\": 2}\n",
        "data.iloc[:, 43:55] = data.iloc[:, 43:55].replace(Q5_ANSWER_MAP)"
      ],
      "execution_count": 0,
      "outputs": []
    },
    {
      "cell_type": "code",
      "metadata": {
        "id": "peAIX62TA6ZN",
        "colab_type": "code",
        "colab": {}
      },
      "source": [
        "Q7_ANSWER_MAP = {\"Strongly disagree\" : -3, \"Somewhat disagree\": -1, \"Disagree\" : -2, \"Neither agree nor disagree\" : 0, \n",
        "                 \"Agree\" : 2, \"Somewhat agree\": 1, \"Strongly agree\": 3}\n",
        "data[['Q7']] = data[['Q7']].replace(Q7_ANSWER_MAP)"
      ],
      "execution_count": 0,
      "outputs": []
    },
    {
      "cell_type": "code",
      "metadata": {
        "id": "dvTbIXtt82CZ",
        "colab_type": "code",
        "colab": {}
      },
      "source": [
        "Q8_ANSWER_MAP = {\"Never in my life\" : 0, \"Not in the past year\" : 1, \"ONCE or TWICE in the past year.\" : 2, \n",
        "               \"Three or more times in the past year\" : 3, \"More than 15 times in the past year.\" : 4}\n",
        "data.iloc[:, 68:77] = data.iloc[:, 68:77].replace(Q8_ANSWER_MAP)"
      ],
      "execution_count": 0,
      "outputs": []
    },
    {
      "cell_type": "code",
      "metadata": {
        "id": "eYtj4MWt8JMQ",
        "colab_type": "code",
        "colab": {}
      },
      "source": [
        "Q10_ANSWER_MAP = {float(\"NaN\"): 0, \"Check all that apply\": 1}\n",
        "data.iloc[:, 77:89] = data.iloc[:, 77:89].replace(Q10_ANSWER_MAP)"
      ],
      "execution_count": 0,
      "outputs": []
    },
    {
      "cell_type": "code",
      "metadata": {
        "id": "GTJ9KexM63Ve",
        "colab_type": "code",
        "colab": {}
      },
      "source": [
        "Q13_ANSWER_MAP = {\"Strongly disagree\" : -3, \"Somewhat disagree\": -1, \"Disagree\" : -2, \"Neither agree nor disagree\" : 0, \n",
        "                 \"Agree\" : 2, \"Somewhat agree\": 1, \"Strongly agree\": 3}\n",
        "data.iloc[:, 64:68] = data.iloc[:, 64:68].replace(Q13_ANSWER_MAP)"
      ],
      "execution_count": 0,
      "outputs": []
    },
    {
      "cell_type": "code",
      "metadata": {
        "id": "cHH44ne29n42",
        "colab_type": "code",
        "colab": {}
      },
      "source": [
        "Q14_ANSWER_MAP = {\"Strongly disagree\" : -2, \"Somewhat disagree\": -1, \"Neither agree nor disagree\" : 0, \n",
        "                 \"Somewhat agree\": 1, \"Strongly agree\": 2}\n",
        "data.iloc[:, 89:101] = data.iloc[:, 89:101].replace(Q13_ANSWER_MAP)"
      ],
      "execution_count": 0,
      "outputs": []
    },
    {
      "cell_type": "code",
      "metadata": {
        "id": "A7ah2Zm597SH",
        "colab_type": "code",
        "colab": {}
      },
      "source": [
        "Q20_ANSWER_MAP = {\"Refuse to answer\": 0, \"Can't choose\": 0, \"Have not done it and would never do it\": 1, \n",
        "                 \"Have not done it but might do it\": 2, \"Have done it in the more distant past\": 3, \n",
        "                 \"Have done it in the past year\": 4}\n",
        "data.iloc[:, 101:109] = data.iloc[:, 101:109].replace(Q20_ANSWER_MAP)"
      ],
      "execution_count": 0,
      "outputs": []
    },
    {
      "cell_type": "code",
      "metadata": {
        "id": "cvVTj1mup_O1",
        "colab_type": "code",
        "colab": {}
      },
      "source": [
        "Q22_ANSWER_MAP = {\"Attended high school, but did not graduate\": 0, \"High school graduate\": 1, \n",
        "                  \"Attended college, but did not graduate for a 4-year college\": 2, \n",
        "                 \"Graduated from a 4-year college\": 3, \"Attended graduate or profession school, but did not graduate\": 4, \n",
        "                 \"Graduated from a graduate or professional school (e.g. MBA, MPA, JD, MD)\": 5}\n",
        "data.iloc[:, 110] = data.iloc[:, 110].replace(Q22_ANSWER_MAP)"
      ],
      "execution_count": 0,
      "outputs": []
    },
    {
      "cell_type": "code",
      "metadata": {
        "id": "TUuxFvunwKPs",
        "colab_type": "code",
        "colab": {}
      },
      "source": [
        "data.iloc[:, 111] = data.iloc[:, 111].replace(float('nan'), \"Refuse to answer\") "
      ],
      "execution_count": 0,
      "outputs": []
    },
    {
      "cell_type": "code",
      "metadata": {
        "id": "cNosWdoovkhc",
        "colab_type": "code",
        "colab": {}
      },
      "source": [
        "data = pd.concat([data,pd.get_dummies(data['Q24'],prefix=['Q24'])],axis=1)"
      ],
      "execution_count": 0,
      "outputs": []
    },
    {
      "cell_type": "code",
      "metadata": {
        "id": "bQ-v-D-wyepR",
        "colab_type": "code",
        "colab": {}
      },
      "source": [
        "data = data.drop(columns=data.columns[111])"
      ],
      "execution_count": 0,
      "outputs": []
    },
    {
      "cell_type": "code",
      "metadata": {
        "id": "4V6K1wm20Y-B",
        "colab_type": "code",
        "colab": {}
      },
      "source": [
        "Q23_ANSWER_MAP = {\"Less than $10,000\": 1, \"$10,000 - $14,999\": 2, \n",
        "                  \"$15,000 - $24,999\": 3, \"$25,000 - $34,999\": 4, \n",
        "                  \"$35,000 - 49,999\": 5, \"$50,000 - $74,999\": 6, \n",
        "                  \"$75,000 - $99,999\": 7, \"$100,000 - $149,999\": 8, \n",
        "                  \"$150,000 - $199,999\": 9, \"$200,000+\": 10,\n",
        "                  \"Refuse to answer\": float('nan'), \"Don't know\": float('nan')}\n",
        "data.iloc[:, 111] = data.iloc[:, 111].replace(Q23_ANSWER_MAP)"
      ],
      "execution_count": 0,
      "outputs": []
    },
    {
      "cell_type": "code",
      "metadata": {
        "id": "FxxdUFjT-Bom",
        "colab_type": "code",
        "colab": {}
      },
      "source": [
        "#Dropping Q6 and Q21\n",
        "data = data.drop(columns=data.columns[55:64])\n",
        "data = data.drop(columns=data.columns[100])"
      ],
      "execution_count": 0,
      "outputs": []
    },
    {
      "cell_type": "code",
      "metadata": {
        "id": "Y4Capps1oJ5D",
        "colab_type": "code",
        "outputId": "1e2c8f09-77ba-489b-b063-9c54c8a0de98",
        "colab": {
          "base_uri": "https://localhost:8080/",
          "height": 35
        }
      },
      "source": [
        "sample_incomplete_rows = data[data.isnull().any(axis=1)]\n",
        "print(len(sample_incomplete_rows))"
      ],
      "execution_count": 0,
      "outputs": [
        {
          "output_type": "stream",
          "text": [
            "212\n"
          ],
          "name": "stdout"
        }
      ]
    },
    {
      "cell_type": "code",
      "metadata": {
        "id": "FWpoj3-rnBN6",
        "colab_type": "code",
        "colab": {}
      },
      "source": [
        "from sklearn.impute import SimpleImputer\n",
        "imputer = SimpleImputer(strategy=\"constant\", fill_value=-999)"
      ],
      "execution_count": 0,
      "outputs": []
    },
    {
      "cell_type": "code",
      "metadata": {
        "id": "nkiQX4_qmOp9",
        "colab_type": "code",
        "outputId": "79bcdbac-bfa7-4d58-ebd1-57b619d4f94f",
        "colab": {
          "base_uri": "https://localhost:8080/",
          "height": 52
        }
      },
      "source": [
        "imputer.fit(data)"
      ],
      "execution_count": 0,
      "outputs": [
        {
          "output_type": "execute_result",
          "data": {
            "text/plain": [
              "SimpleImputer(add_indicator=False, copy=True, fill_value=-999,\n",
              "              missing_values=nan, strategy='constant', verbose=0)"
            ]
          },
          "metadata": {
            "tags": []
          },
          "execution_count": 22
        }
      ]
    },
    {
      "cell_type": "code",
      "metadata": {
        "id": "HXJFR5ShnW4l",
        "colab_type": "code",
        "colab": {}
      },
      "source": [
        "data_copy = data.copy()\n",
        "data_imputed = imputer.transform(data_copy)\n",
        "data_imputed = pd.DataFrame(data_imputed, columns = data.columns)\n",
        "data_imputed = data_imputed.astype(int)"
      ],
      "execution_count": 0,
      "outputs": []
    },
    {
      "cell_type": "code",
      "metadata": {
        "id": "CAM-PorDx9jn",
        "colab_type": "code",
        "outputId": "bfdb767a-d4e0-482d-ba31-483ca7e30e29",
        "colab": {
          "base_uri": "https://localhost:8080/",
          "height": 613
        }
      },
      "source": [
        "data_imputed.head()"
      ],
      "execution_count": 0,
      "outputs": [
        {
          "output_type": "execute_result",
          "data": {
            "text/html": [
              "<div>\n",
              "<style scoped>\n",
              "    .dataframe tbody tr th:only-of-type {\n",
              "        vertical-align: middle;\n",
              "    }\n",
              "\n",
              "    .dataframe tbody tr th {\n",
              "        vertical-align: top;\n",
              "    }\n",
              "\n",
              "    .dataframe thead th {\n",
              "        text-align: right;\n",
              "    }\n",
              "</style>\n",
              "<table border=\"1\" class=\"dataframe\">\n",
              "  <thead>\n",
              "    <tr style=\"text-align: right;\">\n",
              "      <th></th>\n",
              "      <th>(Q1_1, Please share your experience with computers and the Internet by addressing the following statements. - Used a computer, {\"ImportId\":\"QID36_1\"})</th>\n",
              "      <th>(Q1_2, Please share your experience with computers and the Internet by addressing the following statements. - Surfed the Internet, {\"ImportId\":\"QID36_2\"})</th>\n",
              "      <th>(Q1_3, Please share your experience with computers and the Internet by addressing the following statements. - Sent a message by electronic mail (e-mail), {\"ImportId\":\"QID36_3\"})</th>\n",
              "      <th>(Q1_4, Please share your experience with computers and the Internet by addressing the following statements. - Read news on the Internet, {\"ImportId\":\"QID36_4\"})</th>\n",
              "      <th>(Q1_5, Please share your experience with computers and the Internet by addressing the following statements. - Played a computer game, {\"ImportId\":\"QID36_5\"})</th>\n",
              "      <th>(Q1_6, Please share your experience with computers and the Internet by addressing the following statements. - Looked up information on the Internet, {\"ImportId\":\"QID36_6\"})</th>\n",
              "      <th>(Q1_7, Please share your experience with computers and the Internet by addressing the following statements. - Searched for a job on the Internet., {\"ImportId\":\"QID36_12\"})</th>\n",
              "      <th>(Q1_8, Please share your experience with computers and the Internet by addressing the following statements. - Made a purchase on the Internet., {\"ImportId\":\"QID36_13\"})</th>\n",
              "      <th>(Q1_9, Please share your experience with computers and the Internet by addressing the following statements. - Used social media, {\"ImportId\":\"QID36_7\"})</th>\n",
              "      <th>(Q1_10, Please share your experience with computers and the Internet by addressing the following statements. - Played a computer game on the Internet, {\"ImportId\":\"QID36_8\"})</th>\n",
              "      <th>(Q1_11, Please share your experience with computers and the Internet by addressing the following statements. - Used virtual reality or augmented reality on the Internet, {\"ImportId\":\"QID36_9\"})</th>\n",
              "      <th>(Q1_12, Please share your experience with computers and the Internet by addressing the following statements. - Conducted banking or financial transactions on the Internet., {\"ImportId\":\"QID36_10\"})</th>\n",
              "      <th>(Q1_13, Please share your experience with computers and the Internet by addressing the following statements. - Applied for a job on the Internet., {\"ImportId\":\"QID36_11\"})</th>\n",
              "      <th>(Q1_14, Please share your experience with computers and the Internet by addressing the following statements. - Looked up directions to a new location on the Internet., {\"ImportId\":\"QID36_14\"})</th>\n",
              "      <th>(Q2_1, Please share your experience with computers and the Internet by addressing the following statements. - Bought a computer, {\"ImportId\":\"QID34_1\"})</th>\n",
              "      <th>(Q2_2, Please share your experience with computers and the Internet by addressing the following statements. - Connected new component to a computer, for example plugged in a web-based camera, {\"ImportId\":\"QID34_2\"})</th>\n",
              "      <th>(Q2_3, Please share your experience with computers and the Internet by addressing the following statements. - Repaired or retrofitted a computer, for example installed a memory card, {\"ImportId\":\"QID34_3\"})</th>\n",
              "      <th>(Q2_4, Please share your experience with computers and the Internet by addressing the following statements. - Installed software on a computer, {\"ImportId\":\"QID34_4\"})</th>\n",
              "      <th>(Q2_5, Please share your experience with computers and the Internet by addressing the following statements. - Updated software on a computer, {\"ImportId\":\"QID34_5\"})</th>\n",
              "      <th>(Q2_6, Please share your experience with computers and the Internet by addressing the following statements. - Addressed software errors, for example troubleshooting error, {\"ImportId\":\"QID34_6\"})</th>\n",
              "      <th>(Q2_7, Please share your experience with computers and the Internet by addressing the following statements. - Wrote or coded new software, {\"ImportId\":\"QID34_7\"})</th>\n",
              "      <th>(Q3_1, Please share your computer skills by addressing the following statements. - Created a webpage, {\"ImportId\":\"QID35_1\"})</th>\n",
              "      <th>(Q3_2, Please share your computer skills by addressing the following statements. - Created a web-based application, {\"ImportId\":\"QID35_2\"})</th>\n",
              "      <th>(Q3_3, Please share your computer skills by addressing the following statements. - Backed up files to protect against data loss, {\"ImportId\":\"QID35_7\"})</th>\n",
              "      <th>(Q3_4, Please share your computer skills by addressing the following statements. - Installed software to protect a computer from viruses and malware, {\"ImportId\":\"QID35_3\"})</th>\n",
              "      <th>(Q3_5, Please share your computer skills by addressing the following statements. - Updated software to protect it from security threats., {\"ImportId\":\"QID35_4\"})</th>\n",
              "      <th>(Q4_1, Please share how you access the Internet. What devices do you use to access the Internet? - Smartphone, {\"ImportId\":\"QID25_1\"})</th>\n",
              "      <th>(Q4_2, Please share how you access the Internet. What devices do you use to access the Internet? - Laptop, {\"ImportId\":\"QID25_2\"})</th>\n",
              "      <th>(Q4_3, Please share how you access the Internet. What devices do you use to access the Internet? - Home Computer, {\"ImportId\":\"QID25_3\"})</th>\n",
              "      <th>(Q4_4, Please share how you access the Internet. What devices do you use to access the Internet? - Work Computer, {\"ImportId\":\"QID25_4\"})</th>\n",
              "      <th>(Q4_5, Please share how you access the Internet. What devices do you use to access the Internet? - Tablet, {\"ImportId\":\"QID25_5\"})</th>\n",
              "      <th>(Q4_6, Please share how you access the Internet. What devices do you use to access the Internet? - Home Television, {\"ImportId\":\"QID25_6\"})</th>\n",
              "      <th>(Q4_7, Please share how you access the Internet. What devices do you use to access the Internet? - Library Computer, {\"ImportId\":\"QID25_7\"})</th>\n",
              "      <th>(Q9_1, What resources do you use for learning new information? - Library, {\"ImportId\":\"QID30_1\"})</th>\n",
              "      <th>(Q9_2, What resources do you use for learning new information? - Books, {\"ImportId\":\"QID30_2\"})</th>\n",
              "      <th>(Q9_3, What resources do you use for learning new information? - Encyclopedia, {\"ImportId\":\"QID30_3\"})</th>\n",
              "      <th>(Q9_4, What resources do you use for learning new information? - Internet, {\"ImportId\":\"QID30_4\"})</th>\n",
              "      <th>(Q9_5, What resources do you use for learning new information? - Parents, {\"ImportId\":\"QID30_5\"})</th>\n",
              "      <th>(Q9_6, What resources do you use for learning new information? - Religious text, {\"ImportId\":\"QID30_6\"})</th>\n",
              "      <th>(Q9_7, What resources do you use for learning new information? - Television, {\"ImportId\":\"QID30_7\"})</th>\n",
              "      <th>...</th>\n",
              "      <th>(Q10_3, The reasons that I do not use the Internet include: - Don't have a computer, {\"ImportId\":\"QID31_3\"})</th>\n",
              "      <th>(Q10_4, The reasons that I do not use the Internet include: - Don't know how / Don't have skills, {\"ImportId\":\"QID31_4\"})</th>\n",
              "      <th>(Q10_5, The reasons that I do not use the Internet include: - Just not interested, {\"ImportId\":\"QID31_5\"})</th>\n",
              "      <th>(Q10_6, The reasons that I do not use the Internet include: - Too old to learn, {\"ImportId\":\"QID31_6\"})</th>\n",
              "      <th>(Q10_7, The reasons that I do not use the Internet include: - Too expensive, {\"ImportId\":\"QID31_7\"})</th>\n",
              "      <th>(Q10_8, The reasons that I do not use the Internet include: - It's a waste of time, {\"ImportId\":\"QID31_8\"})</th>\n",
              "      <th>(Q10_9, The reasons that I do not use the Internet include: - Don't have access, {\"ImportId\":\"QID31_9\"})</th>\n",
              "      <th>(Q10_10, The reasons that I do not use the Internet include: - Don't need it or want it, {\"ImportId\":\"QID31_10\"})</th>\n",
              "      <th>(Q10_11, The reasons that I do not use the Internet include: - Worried about privacy / viruses / spam, {\"ImportId\":\"QID31_11\"})</th>\n",
              "      <th>(Q10_12, The reasons that I do not use the Internet include: - Too busy/Don't have time, {\"ImportId\":\"QID31_12\"})</th>\n",
              "      <th>(Q14_1, Please share your thoughts on which organizations should be TRUSTED to store, manage, and share data. - Private companies, {\"ImportId\":\"QID38_1\"})</th>\n",
              "      <th>(Q14_2, Please share your thoughts on which organizations should be TRUSTED to store, manage, and share data. - Universities and colleges, {\"ImportId\":\"QID38_2\"})</th>\n",
              "      <th>(Q14_3, Please share your thoughts on which organizations should be TRUSTED to store, manage, and share data. - Police Departments, {\"ImportId\":\"QID38_3\"})</th>\n",
              "      <th>(Q14_4, Please share your thoughts on which organizations should be TRUSTED to store, manage, and share data. - Religious organizations, {\"ImportId\":\"QID38_5\"})</th>\n",
              "      <th>(Q14_5, Please share your thoughts on which organizations should be TRUSTED to store, manage, and share data. - Hospitals, {\"ImportId\":\"QID38_6\"})</th>\n",
              "      <th>(Q14_6, Please share your thoughts on which organizations should be TRUSTED to store, manage, and share data. - Schools, {\"ImportId\":\"QID38_7\"})</th>\n",
              "      <th>(Q14_7, Please share your thoughts on which organizations should be TRUSTED to store, manage, and share data. - Insurance Agencies, {\"ImportId\":\"QID38_8\"})</th>\n",
              "      <th>(Q14_8, Please share your thoughts on which organizations should be TRUSTED to store, manage, and share data. - Media companies, {\"ImportId\":\"QID38_9\"})</th>\n",
              "      <th>(Q14_9, Please share your thoughts on which organizations should be TRUSTED to store, manage, and share data. - Lawyers and legal firms, {\"ImportId\":\"QID38_10\"})</th>\n",
              "      <th>(Q14_10, Please share your thoughts on which organizations should be TRUSTED to store, manage, and share data. - Accounting firms, {\"ImportId\":\"QID38_11\"})</th>\n",
              "      <th>(Q14_11, Please share your thoughts on which organizations should be TRUSTED to store, manage, and share data. - Government housing authorities, {\"ImportId\":\"QID38_12\"})</th>\n",
              "      <th>(Q14_12, Please share your thoughts on which organizations should be TRUSTED to store, manage, and share data. - Public Libraries, {\"ImportId\":\"QID38_13\"})</th>\n",
              "      <th>(Q20_1, Here are some different forms of political and social action that people can take. Please indicate, for each one, whether you have done any of these things in the past year, whether you have done it inthe more distant past, whether you have not done it but might do it, or have not done it and wouldnever, under any circumstances, do it. - Signed a petition., {\"ImportId\":\"QID47_1\"})</th>\n",
              "      <th>(Q20_2, Here are some different forms of political and social action that people can take. Please indicate, for each one, whether you have done any of these things in the past year, whether you have done it inthe more distant past, whether you have not done it but might do it, or have not done it and wouldnever, under any circumstances, do it. - Boycotted, or deliberately bought certain products for political or environmental reasons., {\"ImportId\":\"QID47_2\"})</th>\n",
              "      <th>(Q20_3, Here are some different forms of political and social action that people can take. Please indicate, for each one, whether you have done any of these things in the past year, whether you have done it inthe more distant past, whether you have not done it but might do it, or have not done it and wouldnever, under any circumstances, do it. - Took part in a demonstration., {\"ImportId\":\"QID47_3\"})</th>\n",
              "      <th>(Q20_4, Here are some different forms of political and social action that people can take. Please indicate, for each one, whether you have done any of these things in the past year, whether you have done it inthe more distant past, whether you have not done it but might do it, or have not done it and wouldnever, under any circumstances, do it. - Attended a political meeting or rally., {\"ImportId\":\"QID47_4\"})</th>\n",
              "      <th>(Q20_5, Here are some different forms of political and social action that people can take. Please indicate, for each one, whether you have done any of these things in the past year, whether you have done it inthe more distant past, whether you have not done it but might do it, or have not done it and wouldnever, under any circumstances, do it. - Contacted, or attempted to contact, a politician or civil servant to express your views., {\"ImportId\":\"QID47_5\"})</th>\n",
              "      <th>(Q20_6, Here are some different forms of political and social action that people can take. Please indicate, for each one, whether you have done any of these things in the past year, whether you have done it inthe more distant past, whether you have not done it but might do it, or have not done it and wouldnever, under any circumstances, do it. - Donated money or raised funds for a social or political activity., {\"ImportId\":\"QID47_6\"})</th>\n",
              "      <th>(Q20_7, Here are some different forms of political and social action that people can take. Please indicate, for each one, whether you have done any of these things in the past year, whether you have done it inthe more distant past, whether you have not done it but might do it, or have not done it and wouldnever, under any circumstances, do it. - Contacted or appeared in the media to express your views., {\"ImportId\":\"QID47_7\"})</th>\n",
              "      <th>(Q20_8, Here are some different forms of political and social action that people can take. Please indicate, for each one, whether you have done any of these things in the past year, whether you have done it inthe more distant past, whether you have not done it but might do it, or have not done it and wouldnever, under any circumstances, do it. - Expressed political views on the Internet., {\"ImportId\":\"QID47_8\"})</th>\n",
              "      <th>(Q22, What is your highest level of formal education?, {\"ImportId\":\"QID49\"})</th>\n",
              "      <th>(Q23, For statistical purposes only, we need to know your total family income for 2017. Will you please tell me which of the following categories best represents your total family income?, {\"ImportId\":\"QID50\"})</th>\n",
              "      <th>Q24_American Indian or Alaskan or Hawaiian Native</th>\n",
              "      <th>Q24_Asian</th>\n",
              "      <th>Q24_Black / African American</th>\n",
              "      <th>Q24_Hispanic / Latino</th>\n",
              "      <th>Q24_Middle Eastern</th>\n",
              "      <th>Q24_Other</th>\n",
              "      <th>Q24_Refuse to answer</th>\n",
              "      <th>Q24_White / Caucasian</th>\n",
              "    </tr>\n",
              "  </thead>\n",
              "  <tbody>\n",
              "    <tr>\n",
              "      <th>0</th>\n",
              "      <td>-999</td>\n",
              "      <td>-999</td>\n",
              "      <td>-999</td>\n",
              "      <td>-999</td>\n",
              "      <td>-999</td>\n",
              "      <td>-999</td>\n",
              "      <td>-999</td>\n",
              "      <td>-999</td>\n",
              "      <td>-999</td>\n",
              "      <td>-999</td>\n",
              "      <td>-999</td>\n",
              "      <td>-999</td>\n",
              "      <td>-999</td>\n",
              "      <td>-999</td>\n",
              "      <td>-999</td>\n",
              "      <td>-999</td>\n",
              "      <td>-999</td>\n",
              "      <td>-999</td>\n",
              "      <td>-999</td>\n",
              "      <td>-999</td>\n",
              "      <td>-999</td>\n",
              "      <td>-999</td>\n",
              "      <td>-999</td>\n",
              "      <td>-999</td>\n",
              "      <td>-999</td>\n",
              "      <td>-999</td>\n",
              "      <td>1</td>\n",
              "      <td>1</td>\n",
              "      <td>1</td>\n",
              "      <td>1</td>\n",
              "      <td>1</td>\n",
              "      <td>1</td>\n",
              "      <td>1</td>\n",
              "      <td>1</td>\n",
              "      <td>1</td>\n",
              "      <td>1</td>\n",
              "      <td>1</td>\n",
              "      <td>1</td>\n",
              "      <td>1</td>\n",
              "      <td>1</td>\n",
              "      <td>...</td>\n",
              "      <td>0</td>\n",
              "      <td>0</td>\n",
              "      <td>0</td>\n",
              "      <td>0</td>\n",
              "      <td>0</td>\n",
              "      <td>0</td>\n",
              "      <td>0</td>\n",
              "      <td>0</td>\n",
              "      <td>0</td>\n",
              "      <td>0</td>\n",
              "      <td>-999</td>\n",
              "      <td>-999</td>\n",
              "      <td>-999</td>\n",
              "      <td>-999</td>\n",
              "      <td>-999</td>\n",
              "      <td>-999</td>\n",
              "      <td>-999</td>\n",
              "      <td>-999</td>\n",
              "      <td>-999</td>\n",
              "      <td>-999</td>\n",
              "      <td>-999</td>\n",
              "      <td>-999</td>\n",
              "      <td>-999</td>\n",
              "      <td>-999</td>\n",
              "      <td>-999</td>\n",
              "      <td>-999</td>\n",
              "      <td>-999</td>\n",
              "      <td>-999</td>\n",
              "      <td>-999</td>\n",
              "      <td>-999</td>\n",
              "      <td>-999</td>\n",
              "      <td>-999</td>\n",
              "      <td>0</td>\n",
              "      <td>0</td>\n",
              "      <td>0</td>\n",
              "      <td>0</td>\n",
              "      <td>0</td>\n",
              "      <td>0</td>\n",
              "      <td>1</td>\n",
              "      <td>0</td>\n",
              "    </tr>\n",
              "    <tr>\n",
              "      <th>1</th>\n",
              "      <td>4</td>\n",
              "      <td>4</td>\n",
              "      <td>4</td>\n",
              "      <td>4</td>\n",
              "      <td>1</td>\n",
              "      <td>4</td>\n",
              "      <td>2</td>\n",
              "      <td>4</td>\n",
              "      <td>4</td>\n",
              "      <td>1</td>\n",
              "      <td>1</td>\n",
              "      <td>4</td>\n",
              "      <td>1</td>\n",
              "      <td>4</td>\n",
              "      <td>2</td>\n",
              "      <td>4</td>\n",
              "      <td>2</td>\n",
              "      <td>4</td>\n",
              "      <td>4</td>\n",
              "      <td>4</td>\n",
              "      <td>4</td>\n",
              "      <td>4</td>\n",
              "      <td>4</td>\n",
              "      <td>4</td>\n",
              "      <td>4</td>\n",
              "      <td>4</td>\n",
              "      <td>0</td>\n",
              "      <td>0</td>\n",
              "      <td>1</td>\n",
              "      <td>1</td>\n",
              "      <td>1</td>\n",
              "      <td>1</td>\n",
              "      <td>1</td>\n",
              "      <td>1</td>\n",
              "      <td>0</td>\n",
              "      <td>0</td>\n",
              "      <td>0</td>\n",
              "      <td>1</td>\n",
              "      <td>1</td>\n",
              "      <td>1</td>\n",
              "      <td>...</td>\n",
              "      <td>0</td>\n",
              "      <td>0</td>\n",
              "      <td>0</td>\n",
              "      <td>0</td>\n",
              "      <td>0</td>\n",
              "      <td>0</td>\n",
              "      <td>0</td>\n",
              "      <td>0</td>\n",
              "      <td>0</td>\n",
              "      <td>0</td>\n",
              "      <td>1</td>\n",
              "      <td>1</td>\n",
              "      <td>1</td>\n",
              "      <td>-1</td>\n",
              "      <td>3</td>\n",
              "      <td>1</td>\n",
              "      <td>1</td>\n",
              "      <td>-1</td>\n",
              "      <td>1</td>\n",
              "      <td>1</td>\n",
              "      <td>1</td>\n",
              "      <td>-1</td>\n",
              "      <td>3</td>\n",
              "      <td>2</td>\n",
              "      <td>2</td>\n",
              "      <td>4</td>\n",
              "      <td>2</td>\n",
              "      <td>4</td>\n",
              "      <td>4</td>\n",
              "      <td>4</td>\n",
              "      <td>-999</td>\n",
              "      <td>6</td>\n",
              "      <td>0</td>\n",
              "      <td>0</td>\n",
              "      <td>0</td>\n",
              "      <td>1</td>\n",
              "      <td>0</td>\n",
              "      <td>0</td>\n",
              "      <td>0</td>\n",
              "      <td>0</td>\n",
              "    </tr>\n",
              "    <tr>\n",
              "      <th>2</th>\n",
              "      <td>4</td>\n",
              "      <td>4</td>\n",
              "      <td>4</td>\n",
              "      <td>4</td>\n",
              "      <td>4</td>\n",
              "      <td>4</td>\n",
              "      <td>4</td>\n",
              "      <td>4</td>\n",
              "      <td>4</td>\n",
              "      <td>4</td>\n",
              "      <td>2</td>\n",
              "      <td>4</td>\n",
              "      <td>4</td>\n",
              "      <td>4</td>\n",
              "      <td>2</td>\n",
              "      <td>4</td>\n",
              "      <td>-999</td>\n",
              "      <td>3</td>\n",
              "      <td>4</td>\n",
              "      <td>3</td>\n",
              "      <td>3</td>\n",
              "      <td>-999</td>\n",
              "      <td>4</td>\n",
              "      <td>4</td>\n",
              "      <td>3</td>\n",
              "      <td>3</td>\n",
              "      <td>0</td>\n",
              "      <td>0</td>\n",
              "      <td>1</td>\n",
              "      <td>0</td>\n",
              "      <td>0</td>\n",
              "      <td>0</td>\n",
              "      <td>1</td>\n",
              "      <td>1</td>\n",
              "      <td>0</td>\n",
              "      <td>1</td>\n",
              "      <td>0</td>\n",
              "      <td>0</td>\n",
              "      <td>1</td>\n",
              "      <td>0</td>\n",
              "      <td>...</td>\n",
              "      <td>0</td>\n",
              "      <td>0</td>\n",
              "      <td>0</td>\n",
              "      <td>0</td>\n",
              "      <td>0</td>\n",
              "      <td>0</td>\n",
              "      <td>0</td>\n",
              "      <td>0</td>\n",
              "      <td>0</td>\n",
              "      <td>0</td>\n",
              "      <td>1</td>\n",
              "      <td>1</td>\n",
              "      <td>1</td>\n",
              "      <td>1</td>\n",
              "      <td>1</td>\n",
              "      <td>1</td>\n",
              "      <td>1</td>\n",
              "      <td>1</td>\n",
              "      <td>0</td>\n",
              "      <td>0</td>\n",
              "      <td>1</td>\n",
              "      <td>1</td>\n",
              "      <td>-999</td>\n",
              "      <td>-999</td>\n",
              "      <td>-999</td>\n",
              "      <td>-999</td>\n",
              "      <td>-999</td>\n",
              "      <td>-999</td>\n",
              "      <td>-999</td>\n",
              "      <td>-999</td>\n",
              "      <td>4</td>\n",
              "      <td>9</td>\n",
              "      <td>0</td>\n",
              "      <td>0</td>\n",
              "      <td>1</td>\n",
              "      <td>0</td>\n",
              "      <td>0</td>\n",
              "      <td>0</td>\n",
              "      <td>0</td>\n",
              "      <td>0</td>\n",
              "    </tr>\n",
              "    <tr>\n",
              "      <th>3</th>\n",
              "      <td>4</td>\n",
              "      <td>4</td>\n",
              "      <td>4</td>\n",
              "      <td>4</td>\n",
              "      <td>4</td>\n",
              "      <td>4</td>\n",
              "      <td>4</td>\n",
              "      <td>4</td>\n",
              "      <td>4</td>\n",
              "      <td>4</td>\n",
              "      <td>4</td>\n",
              "      <td>4</td>\n",
              "      <td>4</td>\n",
              "      <td>4</td>\n",
              "      <td>2</td>\n",
              "      <td>3</td>\n",
              "      <td>1</td>\n",
              "      <td>2</td>\n",
              "      <td>3</td>\n",
              "      <td>3</td>\n",
              "      <td>0</td>\n",
              "      <td>3</td>\n",
              "      <td>1</td>\n",
              "      <td>4</td>\n",
              "      <td>3</td>\n",
              "      <td>3</td>\n",
              "      <td>0</td>\n",
              "      <td>0</td>\n",
              "      <td>1</td>\n",
              "      <td>0</td>\n",
              "      <td>1</td>\n",
              "      <td>0</td>\n",
              "      <td>0</td>\n",
              "      <td>0</td>\n",
              "      <td>0</td>\n",
              "      <td>0</td>\n",
              "      <td>0</td>\n",
              "      <td>0</td>\n",
              "      <td>1</td>\n",
              "      <td>0</td>\n",
              "      <td>...</td>\n",
              "      <td>0</td>\n",
              "      <td>0</td>\n",
              "      <td>0</td>\n",
              "      <td>0</td>\n",
              "      <td>0</td>\n",
              "      <td>0</td>\n",
              "      <td>0</td>\n",
              "      <td>0</td>\n",
              "      <td>0</td>\n",
              "      <td>0</td>\n",
              "      <td>0</td>\n",
              "      <td>3</td>\n",
              "      <td>3</td>\n",
              "      <td>0</td>\n",
              "      <td>3</td>\n",
              "      <td>3</td>\n",
              "      <td>3</td>\n",
              "      <td>-3</td>\n",
              "      <td>3</td>\n",
              "      <td>3</td>\n",
              "      <td>-999</td>\n",
              "      <td>0</td>\n",
              "      <td>4</td>\n",
              "      <td>4</td>\n",
              "      <td>4</td>\n",
              "      <td>4</td>\n",
              "      <td>4</td>\n",
              "      <td>4</td>\n",
              "      <td>4</td>\n",
              "      <td>4</td>\n",
              "      <td>3</td>\n",
              "      <td>9</td>\n",
              "      <td>0</td>\n",
              "      <td>0</td>\n",
              "      <td>1</td>\n",
              "      <td>0</td>\n",
              "      <td>0</td>\n",
              "      <td>0</td>\n",
              "      <td>0</td>\n",
              "      <td>0</td>\n",
              "    </tr>\n",
              "    <tr>\n",
              "      <th>4</th>\n",
              "      <td>4</td>\n",
              "      <td>4</td>\n",
              "      <td>4</td>\n",
              "      <td>4</td>\n",
              "      <td>4</td>\n",
              "      <td>4</td>\n",
              "      <td>4</td>\n",
              "      <td>4</td>\n",
              "      <td>4</td>\n",
              "      <td>4</td>\n",
              "      <td>0</td>\n",
              "      <td>4</td>\n",
              "      <td>4</td>\n",
              "      <td>4</td>\n",
              "      <td>1</td>\n",
              "      <td>0</td>\n",
              "      <td>0</td>\n",
              "      <td>1</td>\n",
              "      <td>4</td>\n",
              "      <td>3</td>\n",
              "      <td>3</td>\n",
              "      <td>2</td>\n",
              "      <td>0</td>\n",
              "      <td>4</td>\n",
              "      <td>2</td>\n",
              "      <td>3</td>\n",
              "      <td>0</td>\n",
              "      <td>0</td>\n",
              "      <td>1</td>\n",
              "      <td>1</td>\n",
              "      <td>1</td>\n",
              "      <td>1</td>\n",
              "      <td>1</td>\n",
              "      <td>0</td>\n",
              "      <td>0</td>\n",
              "      <td>0</td>\n",
              "      <td>0</td>\n",
              "      <td>0</td>\n",
              "      <td>0</td>\n",
              "      <td>0</td>\n",
              "      <td>...</td>\n",
              "      <td>0</td>\n",
              "      <td>0</td>\n",
              "      <td>0</td>\n",
              "      <td>0</td>\n",
              "      <td>0</td>\n",
              "      <td>0</td>\n",
              "      <td>0</td>\n",
              "      <td>0</td>\n",
              "      <td>0</td>\n",
              "      <td>0</td>\n",
              "      <td>-1</td>\n",
              "      <td>-1</td>\n",
              "      <td>3</td>\n",
              "      <td>-3</td>\n",
              "      <td>3</td>\n",
              "      <td>3</td>\n",
              "      <td>3</td>\n",
              "      <td>3</td>\n",
              "      <td>3</td>\n",
              "      <td>3</td>\n",
              "      <td>3</td>\n",
              "      <td>0</td>\n",
              "      <td>3</td>\n",
              "      <td>4</td>\n",
              "      <td>1</td>\n",
              "      <td>1</td>\n",
              "      <td>2</td>\n",
              "      <td>4</td>\n",
              "      <td>4</td>\n",
              "      <td>4</td>\n",
              "      <td>5</td>\n",
              "      <td>3</td>\n",
              "      <td>0</td>\n",
              "      <td>0</td>\n",
              "      <td>0</td>\n",
              "      <td>0</td>\n",
              "      <td>0</td>\n",
              "      <td>1</td>\n",
              "      <td>0</td>\n",
              "      <td>0</td>\n",
              "    </tr>\n",
              "  </tbody>\n",
              "</table>\n",
              "<p>5 rows × 110 columns</p>\n",
              "</div>"
            ],
            "text/plain": [
              "   (Q1_1, Please share your experience with computers and the Internet by addressing the following statements. - Used a computer, {\"ImportId\":\"QID36_1\"})  ...  Q24_White / Caucasian\n",
              "0                                               -999                                                                                                       ...                      0\n",
              "1                                                  4                                                                                                       ...                      0\n",
              "2                                                  4                                                                                                       ...                      0\n",
              "3                                                  4                                                                                                       ...                      0\n",
              "4                                                  4                                                                                                       ...                      0\n",
              "\n",
              "[5 rows x 110 columns]"
            ]
          },
          "metadata": {
            "tags": []
          },
          "execution_count": 24
        }
      ]
    },
    {
      "cell_type": "code",
      "metadata": {
        "id": "nWZL1pcNWxvm",
        "colab_type": "code",
        "outputId": "0077468a-07f1-4174-888f-f138ab2a71e0",
        "colab": {
          "base_uri": "https://localhost:8080/",
          "height": 35
        }
      },
      "source": [
        "sample_incomplete_rows = data_imputed[data_imputed.isnull().any(axis=1)]\n",
        "print(len(sample_incomplete_rows))"
      ],
      "execution_count": 0,
      "outputs": [
        {
          "output_type": "stream",
          "text": [
            "0\n"
          ],
          "name": "stdout"
        }
      ]
    },
    {
      "cell_type": "markdown",
      "metadata": {
        "id": "AEZZy6QnYEh4",
        "colab_type": "text"
      },
      "source": [
        "# Feature Engineering"
      ]
    },
    {
      "cell_type": "code",
      "metadata": {
        "id": "NcJ_Y7jkFFZQ",
        "colab_type": "code",
        "outputId": "d3d87752-249c-4fdd-e5b0-76ff14895983",
        "colab": {
          "base_uri": "https://localhost:8080/",
          "height": 178
        }
      },
      "source": [
        "# created a function to reuse with different data preprocessing\n",
        "def build_features(data_imputed):\n",
        "  fun_mat = data_imputed.iloc[:,[7,6,11,12,17,18,24]]\n",
        "  functional_score = fun_mat.sum(axis=1)\n",
        "  devices_mat = data_imputed.iloc[:, 26:33].as_matrix()\n",
        "  devices = devices_mat.sum(axis=1)\n",
        "  political_eng_mat = data_imputed.iloc[:,92:100].as_matrix()\n",
        "  political_engagement = political_eng_mat.sum(axis=1)\n",
        "  income_category = data_imputed.iloc[:,101]\n",
        "  education = data_imputed.iloc[:,100]\n",
        "  home_internet_connection = data_imputed.iloc[:,43]\n",
        "  sd_mat = data_imputed.iloc[:,[16,19,20,21,22]].as_matrix()\n",
        "  system_design_score = sd_mat.sum(axis=1)\n",
        "  casual_mat = data_imputed.iloc[:,[0,1,2,3,4,5,8,9,10,13]].as_matrix()\n",
        "  casual_score = casual_mat.sum(axis=1)\n",
        "  new_features = pd.concat([pd.Series(functional_score), pd.Series(devices), \n",
        "                          pd.Series(political_engagement), pd.Series(income_category), \n",
        "                          pd.Series(education), pd.Series(home_internet_connection), \n",
        "                          pd.Series(system_design_score), pd.Series(casual_score)], axis=1)\n",
        "  new_features.columns = [\"functional score\",  \"num devices\", \"political engagement\", \n",
        "                \"income category\", \"education level\", \"home internet connection\",\n",
        "                \"system design score\", \"casual score\"]\n",
        "  return new_features\n",
        "\n",
        "new_features = build_features(data_imputed)"
      ],
      "execution_count": 0,
      "outputs": [
        {
          "output_type": "stream",
          "text": [
            "/usr/local/lib/python3.6/dist-packages/ipykernel_launcher.py:4: FutureWarning: Method .as_matrix will be removed in a future version. Use .values instead.\n",
            "  after removing the cwd from sys.path.\n",
            "/usr/local/lib/python3.6/dist-packages/ipykernel_launcher.py:6: FutureWarning: Method .as_matrix will be removed in a future version. Use .values instead.\n",
            "  \n",
            "/usr/local/lib/python3.6/dist-packages/ipykernel_launcher.py:11: FutureWarning: Method .as_matrix will be removed in a future version. Use .values instead.\n",
            "  # This is added back by InteractiveShellApp.init_path()\n",
            "/usr/local/lib/python3.6/dist-packages/ipykernel_launcher.py:13: FutureWarning: Method .as_matrix will be removed in a future version. Use .values instead.\n",
            "  del sys.path[0]\n"
          ],
          "name": "stderr"
        }
      ]
    },
    {
      "cell_type": "code",
      "metadata": {
        "id": "nW4ua5PdTIwb",
        "colab_type": "code",
        "outputId": "3e5ea2d0-6278-495b-a0a1-93c5dd018ed9",
        "colab": {
          "base_uri": "https://localhost:8080/",
          "height": 434
        }
      },
      "source": [
        "new_features"
      ],
      "execution_count": 0,
      "outputs": [
        {
          "output_type": "execute_result",
          "data": {
            "text/html": [
              "<div>\n",
              "<style scoped>\n",
              "    .dataframe tbody tr th:only-of-type {\n",
              "        vertical-align: middle;\n",
              "    }\n",
              "\n",
              "    .dataframe tbody tr th {\n",
              "        vertical-align: top;\n",
              "    }\n",
              "\n",
              "    .dataframe thead th {\n",
              "        text-align: right;\n",
              "    }\n",
              "</style>\n",
              "<table border=\"1\" class=\"dataframe\">\n",
              "  <thead>\n",
              "    <tr style=\"text-align: right;\">\n",
              "      <th></th>\n",
              "      <th>functional score</th>\n",
              "      <th>num devices</th>\n",
              "      <th>political engagement</th>\n",
              "      <th>income category</th>\n",
              "      <th>education level</th>\n",
              "      <th>home internet connection</th>\n",
              "      <th>system design score</th>\n",
              "      <th>casual score</th>\n",
              "    </tr>\n",
              "  </thead>\n",
              "  <tbody>\n",
              "    <tr>\n",
              "      <th>0</th>\n",
              "      <td>-6993</td>\n",
              "      <td>7</td>\n",
              "      <td>-7992</td>\n",
              "      <td>-999</td>\n",
              "      <td>-999</td>\n",
              "      <td>-999</td>\n",
              "      <td>-4995</td>\n",
              "      <td>-9990</td>\n",
              "    </tr>\n",
              "    <tr>\n",
              "      <th>1</th>\n",
              "      <td>23</td>\n",
              "      <td>5</td>\n",
              "      <td>25</td>\n",
              "      <td>6</td>\n",
              "      <td>-999</td>\n",
              "      <td>2</td>\n",
              "      <td>18</td>\n",
              "      <td>31</td>\n",
              "    </tr>\n",
              "    <tr>\n",
              "      <th>2</th>\n",
              "      <td>26</td>\n",
              "      <td>2</td>\n",
              "      <td>-7992</td>\n",
              "      <td>9</td>\n",
              "      <td>4</td>\n",
              "      <td>2</td>\n",
              "      <td>-1988</td>\n",
              "      <td>38</td>\n",
              "    </tr>\n",
              "    <tr>\n",
              "      <th>3</th>\n",
              "      <td>24</td>\n",
              "      <td>2</td>\n",
              "      <td>32</td>\n",
              "      <td>9</td>\n",
              "      <td>3</td>\n",
              "      <td>1</td>\n",
              "      <td>8</td>\n",
              "      <td>40</td>\n",
              "    </tr>\n",
              "    <tr>\n",
              "      <th>4</th>\n",
              "      <td>23</td>\n",
              "      <td>5</td>\n",
              "      <td>23</td>\n",
              "      <td>3</td>\n",
              "      <td>5</td>\n",
              "      <td>2</td>\n",
              "      <td>8</td>\n",
              "      <td>36</td>\n",
              "    </tr>\n",
              "    <tr>\n",
              "      <th>...</th>\n",
              "      <td>...</td>\n",
              "      <td>...</td>\n",
              "      <td>...</td>\n",
              "      <td>...</td>\n",
              "      <td>...</td>\n",
              "      <td>...</td>\n",
              "      <td>...</td>\n",
              "      <td>...</td>\n",
              "    </tr>\n",
              "    <tr>\n",
              "      <th>307</th>\n",
              "      <td>15</td>\n",
              "      <td>4</td>\n",
              "      <td>20</td>\n",
              "      <td>3</td>\n",
              "      <td>2</td>\n",
              "      <td>-2</td>\n",
              "      <td>0</td>\n",
              "      <td>36</td>\n",
              "    </tr>\n",
              "    <tr>\n",
              "      <th>308</th>\n",
              "      <td>4</td>\n",
              "      <td>4</td>\n",
              "      <td>11</td>\n",
              "      <td>1</td>\n",
              "      <td>1</td>\n",
              "      <td>2</td>\n",
              "      <td>6</td>\n",
              "      <td>18</td>\n",
              "    </tr>\n",
              "    <tr>\n",
              "      <th>309</th>\n",
              "      <td>5</td>\n",
              "      <td>6</td>\n",
              "      <td>28</td>\n",
              "      <td>-999</td>\n",
              "      <td>1</td>\n",
              "      <td>-1</td>\n",
              "      <td>1</td>\n",
              "      <td>10</td>\n",
              "    </tr>\n",
              "    <tr>\n",
              "      <th>310</th>\n",
              "      <td>12</td>\n",
              "      <td>1</td>\n",
              "      <td>30</td>\n",
              "      <td>-999</td>\n",
              "      <td>2</td>\n",
              "      <td>1</td>\n",
              "      <td>10</td>\n",
              "      <td>37</td>\n",
              "    </tr>\n",
              "    <tr>\n",
              "      <th>311</th>\n",
              "      <td>-2997</td>\n",
              "      <td>6</td>\n",
              "      <td>17</td>\n",
              "      <td>4</td>\n",
              "      <td>5</td>\n",
              "      <td>-999</td>\n",
              "      <td>-4995</td>\n",
              "      <td>7</td>\n",
              "    </tr>\n",
              "  </tbody>\n",
              "</table>\n",
              "<p>312 rows × 8 columns</p>\n",
              "</div>"
            ],
            "text/plain": [
              "     functional score  num devices  ...  system design score  casual score\n",
              "0               -6993            7  ...                -4995         -9990\n",
              "1                  23            5  ...                   18            31\n",
              "2                  26            2  ...                -1988            38\n",
              "3                  24            2  ...                    8            40\n",
              "4                  23            5  ...                    8            36\n",
              "..                ...          ...  ...                  ...           ...\n",
              "307                15            4  ...                    0            36\n",
              "308                 4            4  ...                    6            18\n",
              "309                 5            6  ...                    1            10\n",
              "310                12            1  ...                   10            37\n",
              "311             -2997            6  ...                -4995             7\n",
              "\n",
              "[312 rows x 8 columns]"
            ]
          },
          "metadata": {
            "tags": []
          },
          "execution_count": 27
        }
      ]
    },
    {
      "cell_type": "markdown",
      "metadata": {
        "id": "oWF3P9HMW386",
        "colab_type": "text"
      },
      "source": [
        "# Analysis"
      ]
    },
    {
      "cell_type": "markdown",
      "metadata": {
        "id": "hhTtotSXYwSd",
        "colab_type": "text"
      },
      "source": [
        "## Income vs. Mean Functional Score"
      ]
    },
    {
      "cell_type": "code",
      "metadata": {
        "id": "Lmpc_RHqbwPP",
        "colab_type": "code",
        "outputId": "1df6d6ea-a3cb-428c-dec3-551a3be4cd9f",
        "colab": {
          "base_uri": "https://localhost:8080/",
          "height": 35
        }
      },
      "source": [
        "means = []\n",
        "n = 0\n",
        "for income_cat in range(1,11):\n",
        "    entries = new_features.loc[new_features['income category'] == income_cat]\n",
        "    entries = entries.loc[new_features[\"functional score\"] > 0]\n",
        "    n += len(entries)\n",
        "    means.append(sum(entries['functional score']) / len(entries))\n",
        "print(\"n =\", n)"
      ],
      "execution_count": 0,
      "outputs": [
        {
          "output_type": "stream",
          "text": [
            "n = 173\n"
          ],
          "name": "stdout"
        }
      ]
    },
    {
      "cell_type": "code",
      "metadata": {
        "id": "UBNqSt_QYD7N",
        "colab_type": "code",
        "outputId": "aeca80c9-f6ba-4da1-82d4-188dd5e96234",
        "colab": {
          "base_uri": "https://localhost:8080/",
          "height": 315
        }
      },
      "source": [
        "import numpy as np\n",
        "x = np.linspace(1,10,10)\n",
        "plt.bar((x), means, color='g')\n",
        "plt.xlabel(\"Income Category\")\n",
        "plt.ylabel(\"Mean Functional Score\")\n",
        "plt.ylim(10,25)\n",
        "plt.xticks(np.linspace(1,10,10))\n",
        "plt.vlines(4,10,25,'r','dashed',label=\"Poverty Line\")\n",
        "plt.text(4.1, 22, 'Poverty Line')\n",
        "plt.title(\"Income vs. Mean Functional Score\")\n",
        "save_fig(\"Income vs. Mean Functional Score\")"
      ],
      "execution_count": 0,
      "outputs": [
        {
          "output_type": "stream",
          "text": [
            "Saving figure Income vs. Mean Functional Score\n"
          ],
          "name": "stdout"
        },
        {
          "output_type": "display_data",
          "data": {
            "image/png": "[encoded data removed]",
            "text/plain": [
              "<Figure size 432x288 with 1 Axes>"
            ]
          },
          "metadata": {
            "tags": []
          }
        }
      ]
    },
    {
      "cell_type": "markdown",
      "metadata": {
        "id": "0QtRd2E4CFpB",
        "colab_type": "text"
      },
      "source": [
        "## Income vs. Mean System Design Score"
      ]
    },
    {
      "cell_type": "code",
      "metadata": {
        "colab_type": "code",
        "outputId": "9bf430ed-9529-4554-c97f-27d81ec58105",
        "id": "KHT3Z3GLCK45",
        "colab": {
          "base_uri": "https://localhost:8080/",
          "height": 35
        }
      },
      "source": [
        "means = []\n",
        "n = 0\n",
        "for income_cat in range(1,11):\n",
        "    entries = new_features.loc[new_features['income category'] == income_cat]\n",
        "    entries = entries.loc[new_features[\"system design score\"] > 0]\n",
        "    n += len(entries)\n",
        "    means.append(sum(entries['system design score']) / len(entries))\n",
        "print(\"n =\", n)"
      ],
      "execution_count": 0,
      "outputs": [
        {
          "output_type": "stream",
          "text": [
            "n = 138\n"
          ],
          "name": "stdout"
        }
      ]
    },
    {
      "cell_type": "code",
      "metadata": {
        "colab_type": "code",
        "outputId": "a7f2ffd0-8eae-4db3-bc77-48bb92ff0e1e",
        "id": "MfzDJnsCCMq-",
        "colab": {
          "base_uri": "https://localhost:8080/",
          "height": 315
        }
      },
      "source": [
        "import numpy as np\n",
        "x = np.linspace(1,10,10)\n",
        "plt.bar((x), means, color='g')\n",
        "plt.xlabel(\"Income Category\")\n",
        "plt.ylabel(\"Mean System Design Score\")\n",
        "plt.ylim(4,10)\n",
        "plt.xticks(np.linspace(1,10,10))\n",
        "plt.vlines(4,0,10,'r','dashed',label=\"Poverty Line\")\n",
        "plt.text(4.1, 8, 'Poverty Line')\n",
        "plt.title(\"Income vs. Mean System Design Score\")\n",
        "save_fig(\"Income vs. Mean System Design Score\")"
      ],
      "execution_count": 0,
      "outputs": [
        {
          "output_type": "stream",
          "text": [
            "Saving figure Income vs. Mean System Design Score\n"
          ],
          "name": "stdout"
        },
        {
          "output_type": "display_data",
          "data": {
            "image/png": "[encoded data removed]",
            "text/plain": [
              "<Figure size 432x288 with 1 Axes>"
            ]
          },
          "metadata": {
            "tags": []
          }
        }
      ]
    },
    {
      "cell_type": "markdown",
      "metadata": {
        "id": "A6hAAoMOY0YA",
        "colab_type": "text"
      },
      "source": [
        "## Home Internet Connection vs. Mean Functional Score"
      ]
    },
    {
      "cell_type": "code",
      "metadata": {
        "id": "gbIPU7ncelip",
        "colab_type": "code",
        "outputId": "1e91e6ae-fcd6-4e07-e69b-330e5ae4256d",
        "colab": {
          "base_uri": "https://localhost:8080/",
          "height": 35
        }
      },
      "source": [
        "means = []\n",
        "n = 0\n",
        "for hic in range(-2,3):\n",
        "    entries = new_features.loc[new_features['home internet connection'] == hic]\n",
        "    entries = entries.loc[new_features[\"functional score\"] > 0]\n",
        "    n += len(entries)\n",
        "    means.append(sum(entries['functional score']) / len(entries))\n",
        "print(\"n =\", n)"
      ],
      "execution_count": 0,
      "outputs": [
        {
          "output_type": "stream",
          "text": [
            "n = 234\n"
          ],
          "name": "stdout"
        }
      ]
    },
    {
      "cell_type": "code",
      "metadata": {
        "id": "wLA88NmMmw7R",
        "colab_type": "code",
        "outputId": "721eca72-b3e4-4632-bb18-ca03343ca5a6",
        "colab": {
          "base_uri": "https://localhost:8080/",
          "height": 315
        }
      },
      "source": [
        "import numpy as np\n",
        "plt.bar(list(range(-2,3)), means, color='g')\n",
        "plt.xlabel(\"Home Internet Connection\")\n",
        "plt.ylabel(\"Mean Functional Score\")\n",
        "plt.ylim(12,20)\n",
        "plt.xlim(-2,3)\n",
        "plt.xticks(np.linspace(-1,2,4))\n",
        "plt.title(\"Home Internet Connection vs. Mean Functional Score\")\n",
        "save_fig(\"Home Internet Connection vs. Mean Functional Score\")"
      ],
      "execution_count": 0,
      "outputs": [
        {
          "output_type": "stream",
          "text": [
            "Saving figure Home Internet Connection vs. Mean Functional Score\n"
          ],
          "name": "stdout"
        },
        {
          "output_type": "display_data",
          "data": {
            "image/png": "[encoded data removed]",
            "text/plain": [
              "<Figure size 432x288 with 1 Axes>"
            ]
          },
          "metadata": {
            "tags": []
          }
        }
      ]
    },
    {
      "cell_type": "markdown",
      "metadata": {
        "id": "AIT9-Sw0e-YM",
        "colab_type": "text"
      },
      "source": [
        "Paired T-test for previous result"
      ]
    },
    {
      "cell_type": "code",
      "metadata": {
        "id": "4T9TjZsye8VJ",
        "colab_type": "code",
        "outputId": "d9b1eee0-a706-472a-e2ee-99059c5d56be",
        "colab": {
          "base_uri": "https://localhost:8080/",
          "height": 70
        }
      },
      "source": [
        "entries = new_features.loc[new_features[\"functional score\"] > 0]\n",
        "\n",
        "group1 = entries.loc[entries['home internet connection'] >= -2]\n",
        "group1 = group1.loc[group1['home internet connection'] <= 0]\n",
        "group1 = group1['functional score'].tolist()\n",
        "\n",
        "group2 = entries.loc[entries['home internet connection'] >= 1]\n",
        "group2 = group2['functional score'].tolist()\n",
        "\n",
        "print(\"n Group 1: \", len(group1))\n",
        "print(\"n Group 2: \",len(group2))\n",
        "from scipy import stats\n",
        "print(stats.ttest_ind(group1,group2))"
      ],
      "execution_count": 0,
      "outputs": [
        {
          "output_type": "stream",
          "text": [
            "n Group 1:  44\n",
            "n Group 2:  190\n",
            "Ttest_indResult(statistic=-4.687958422220268, pvalue=4.7079678000774744e-06)\n"
          ],
          "name": "stdout"
        }
      ]
    },
    {
      "cell_type": "markdown",
      "metadata": {
        "id": "Dh8ADTW4-8v9",
        "colab_type": "text"
      },
      "source": [
        "## Functional Score vs. Mean Political Engagement Score"
      ]
    },
    {
      "cell_type": "code",
      "metadata": {
        "id": "TT-oHmzq-LLI",
        "colab_type": "code",
        "outputId": "2d2008a8-7e5d-49d3-874b-18c9c42756dc",
        "colab": {
          "base_uri": "https://localhost:8080/",
          "height": 35
        }
      },
      "source": [
        "means = []\n",
        "n = 0\n",
        "for fun_score in range(0,30, 5):\n",
        "    entries = new_features.loc[new_features[\"functional score\"] >= fun_score]\n",
        "    entries = entries.loc[entries[\"functional score\"] < fun_score+5]\n",
        "    entries.head()\n",
        "    entries = entries.loc[entries['political engagement'] >= 0]\n",
        "    n += len(entries)\n",
        "    if len(entries > 0):\n",
        "      means.append(sum(entries['political engagement']) / len(entries))\n",
        "    else: print(fun_score)\n",
        "print(\"n =\", n)"
      ],
      "execution_count": 0,
      "outputs": [
        {
          "output_type": "stream",
          "text": [
            "n = 242\n"
          ],
          "name": "stdout"
        }
      ]
    },
    {
      "cell_type": "code",
      "metadata": {
        "id": "Gz6duEjwAp-u",
        "colab_type": "code",
        "outputId": "b0b01d14-f13f-4398-e01a-da7ede2d1163",
        "colab": {
          "base_uri": "https://localhost:8080/",
          "height": 315
        }
      },
      "source": [
        "plt.bar(list(range(0,30,5)), means, color='g')\n",
        "plt.xlabel(\"Functional Score\")\n",
        "plt.ylabel(\"Mean Political Engagement Score\")\n",
        "plt.ylim(15,22)\n",
        "plt.xticks(list(range(0,30,5)),labels=[\"0-4\", \"5-9\", \"10-14\", \"15-19\", \"20-24\", \"25-30\"])\n",
        "#plt.Axes.set_xticklabels(labels=[\"0-4\", \"5-9\", \"10-14\", \"15-19\", \"20-24\", \"25-30\"])\n",
        "plt.title(\"Functional Score vs. Mean Political Engagement Score\")\n",
        "save_fig(\"Functional Score vs. Mean Political Engagement Score\")"
      ],
      "execution_count": 0,
      "outputs": [
        {
          "output_type": "stream",
          "text": [
            "Saving figure Functional Score vs. Mean Political Engagement Score\n"
          ],
          "name": "stdout"
        },
        {
          "output_type": "display_data",
          "data": {
            "image/png": "[encoded data removed]",
            "text/plain": [
              "<Figure size 432x288 with 1 Axes>"
            ]
          },
          "metadata": {
            "tags": []
          }
        }
      ]
    },
    {
      "cell_type": "markdown",
      "metadata": {
        "id": "tJRGtGtTCZTv",
        "colab_type": "text"
      },
      "source": [
        "## Race vs. Home Internet Connection"
      ]
    },
    {
      "cell_type": "code",
      "metadata": {
        "id": "5SixCQRBCrE_",
        "colab_type": "code",
        "outputId": "d9e6c461-22fb-41ac-ccdd-6012f286c5a5",
        "colab": {
          "base_uri": "https://localhost:8080/",
          "height": 35
        }
      },
      "source": [
        "means = []\n",
        "n = 0\n",
        "race_idx = [1,2,3,7]\n",
        "for race in race_idx:\n",
        "    entries = data_imputed.loc[data_imputed.iloc[:,102+race] == 1]\n",
        "    entries = entries.loc[entries.iloc[:,55] > -5]\n",
        "    n += len(entries)\n",
        "    means.append(sum(entries.iloc[:,55]) / len(entries))\n",
        "print(\"n =\", n)"
      ],
      "execution_count": 0,
      "outputs": [
        {
          "output_type": "stream",
          "text": [
            "n = 233\n"
          ],
          "name": "stdout"
        }
      ]
    },
    {
      "cell_type": "code",
      "metadata": {
        "id": "Q9x4aiqy-JJh",
        "colab_type": "code",
        "outputId": "4ed21519-5942-4805-fa0a-e178f340ef1f",
        "colab": {
          "base_uri": "https://localhost:8080/",
          "height": 35
        }
      },
      "source": [
        "means"
      ],
      "execution_count": 0,
      "outputs": [
        {
          "output_type": "execute_result",
          "data": {
            "text/plain": [
              "[1.6666666666666667, 1.50625, 1.3695652173913044, 1.3333333333333333]"
            ]
          },
          "metadata": {
            "tags": []
          },
          "execution_count": 38
        }
      ]
    },
    {
      "cell_type": "code",
      "metadata": {
        "id": "GaonhYQn_Km6",
        "colab_type": "code",
        "colab": {}
      },
      "source": [
        "means.sort()"
      ],
      "execution_count": 0,
      "outputs": []
    },
    {
      "cell_type": "code",
      "metadata": {
        "id": "VvpyIcQw_Oo8",
        "colab_type": "code",
        "outputId": "1c29bed3-c1a5-481e-8061-180738fac7da",
        "colab": {
          "base_uri": "https://localhost:8080/",
          "height": 35
        }
      },
      "source": [
        "print(means)"
      ],
      "execution_count": 0,
      "outputs": [
        {
          "output_type": "stream",
          "text": [
            "[1.3333333333333333, 1.3695652173913044, 1.50625, 1.6666666666666667]\n"
          ],
          "name": "stdout"
        }
      ]
    },
    {
      "cell_type": "markdown",
      "metadata": {
        "id": "wWoR-FUn-VFn",
        "colab_type": "text"
      },
      "source": [
        "American Indian or Alaskan or Hawaiian Native: 3 \n",
        "Asian:  1.6666666666666667\n",
        "Black / African American: 1.50625\n",
        "Hispanic / Latino: 1.37 \n",
        "Middle Eastern: 0.0\n",
        "Other: 2.033\n",
        "Refuse to answer: 2.1538\n",
        "White / Caucasian: 1.333333333"
      ]
    },
    {
      "cell_type": "code",
      "metadata": {
        "id": "R5HQ795CFdrr",
        "colab_type": "code",
        "outputId": "04624868-01a3-41ff-eb6f-5d77755b8d69",
        "colab": {
          "base_uri": "https://localhost:8080/",
          "height": 315
        }
      },
      "source": [
        "plt.bar(list(range(4)), means, color='g')\n",
        "plt.xlabel(\"Race/Ethnicity\")\n",
        "plt.ylabel(\"Home Internet Connection\")\n",
        "plt.ylim(1.2,1.8)\n",
        "plt.xticks(list(range(5)),labels=[\"White\", \"Hispanic / Latino\", \n",
        "                                  \"Black / African American\", \"Asian\", \n",
        "                                  ])\n",
        "plt.tick_params(axis='x', rotation=30)\n",
        "plt.title(\"Race/Ethnicity vs. Home Internet Connection\")\n",
        "save_fig(\"Race vs. Home Internet Connection\")"
      ],
      "execution_count": 0,
      "outputs": [
        {
          "output_type": "stream",
          "text": [
            "Saving figure Race vs. Home Internet Connection\n"
          ],
          "name": "stdout"
        },
        {
          "output_type": "display_data",
          "data": {
            "image/png": "[encoded data removed]",
            "text/plain": [
              "<Figure size 432x288 with 1 Axes>"
            ]
          },
          "metadata": {
            "tags": []
          }
        }
      ]
    },
    {
      "cell_type": "markdown",
      "metadata": {
        "id": "1CgwAlQN15k1",
        "colab_type": "text"
      },
      "source": [
        "## Income vs. Home Internet Connection"
      ]
    },
    {
      "cell_type": "code",
      "metadata": {
        "id": "cxleL8NU2E-k",
        "colab_type": "code",
        "outputId": "49bdd7ff-70bf-4428-9d30-cd1fd9169678",
        "colab": {
          "base_uri": "https://localhost:8080/",
          "height": 35
        }
      },
      "source": [
        "means = []\n",
        "n = 0\n",
        "for income_cat in range(1,11):\n",
        "    entries = new_features.loc[new_features['income category'] == income_cat]\n",
        "    entries = entries.loc[new_features[\"home internet connection\"] > -10]\n",
        "    n += len(entries)\n",
        "    means.append(sum(entries['home internet connection']) / len(entries))\n",
        "print(\"n =\", n)"
      ],
      "execution_count": 0,
      "outputs": [
        {
          "output_type": "stream",
          "text": [
            "n = 198\n"
          ],
          "name": "stdout"
        }
      ]
    },
    {
      "cell_type": "code",
      "metadata": {
        "id": "NojB9STc1_om",
        "colab_type": "code",
        "outputId": "8ed20fc7-6949-4034-8b46-373a5e2e0093",
        "colab": {
          "base_uri": "https://localhost:8080/",
          "height": 315
        }
      },
      "source": [
        "x = np.linspace(1,10,10)\n",
        "plt.bar((x), means, color='g')\n",
        "plt.xlabel(\"Income Category\")\n",
        "plt.ylabel(\"Home Internet Connection\")\n",
        "plt.ylim(.5,2)\n",
        "plt.xticks(np.linspace(1,10,10))\n",
        "plt.vlines(4,0,2,'r','dashed',label=\"Poverty Line\")\n",
        "plt.text(4.1, 1.6, 'Poverty Line')\n",
        "plt.title(\"Income vs. Home Internet Connection\")\n",
        "save_fig(\"Income vs. Home Internet Connection\")"
      ],
      "execution_count": 0,
      "outputs": [
        {
          "output_type": "stream",
          "text": [
            "Saving figure Income vs. Home Internet Connection\n"
          ],
          "name": "stdout"
        },
        {
          "output_type": "display_data",
          "data": {
            "image/png": "[encoded data removed]",
            "text/plain": [
              "<Figure size 432x288 with 1 Axes>"
            ]
          },
          "metadata": {
            "tags": []
          }
        }
      ]
    },
    {
      "cell_type": "markdown",
      "metadata": {
        "id": "4f-q2YzUB7VK",
        "colab_type": "text"
      },
      "source": [
        "## K-means clustering to differentiate user groups"
      ]
    },
    {
      "cell_type": "code",
      "metadata": {
        "id": "xLrI031dDDgV",
        "colab_type": "code",
        "colab": {}
      },
      "source": [
        "from sklearn.impute import SimpleImputer\n",
        "imputer = SimpleImputer(strategy=\"mean\")\n",
        "imputer.fit(data)\n",
        "data_copy = data.copy()\n",
        "data_imputed = imputer.transform(data_copy)\n",
        "data_imputed = pd.DataFrame(data_imputed, columns = data.columns)\n",
        "data_imputed = data_imputed.astype(int)"
      ],
      "execution_count": 0,
      "outputs": []
    },
    {
      "cell_type": "code",
      "metadata": {
        "id": "KFh-f5dIGyvJ",
        "colab_type": "code",
        "outputId": "3e82d64e-31ad-4f89-f71c-83226e7b5280",
        "colab": {
          "base_uri": "https://localhost:8080/",
          "height": 35
        }
      },
      "source": [
        "sample_incomplete_rows = data_imputed[data_imputed.isnull().any(axis=1)]\n",
        "print(len(sample_incomplete_rows))"
      ],
      "execution_count": 0,
      "outputs": [
        {
          "output_type": "stream",
          "text": [
            "0\n"
          ],
          "name": "stdout"
        }
      ]
    },
    {
      "cell_type": "code",
      "metadata": {
        "id": "Q3lug1oJFveQ",
        "colab_type": "code",
        "outputId": "4ff35890-d5aa-4668-f49c-8b6e201afb6d",
        "colab": {
          "base_uri": "https://localhost:8080/",
          "height": 595
        }
      },
      "source": [
        "new_features = build_features(data_imputed)\n",
        "new_features"
      ],
      "execution_count": 0,
      "outputs": [
        {
          "output_type": "stream",
          "text": [
            "/usr/local/lib/python3.6/dist-packages/ipykernel_launcher.py:4: FutureWarning: Method .as_matrix will be removed in a future version. Use .values instead.\n",
            "  after removing the cwd from sys.path.\n",
            "/usr/local/lib/python3.6/dist-packages/ipykernel_launcher.py:6: FutureWarning: Method .as_matrix will be removed in a future version. Use .values instead.\n",
            "  \n",
            "/usr/local/lib/python3.6/dist-packages/ipykernel_launcher.py:11: FutureWarning: Method .as_matrix will be removed in a future version. Use .values instead.\n",
            "  # This is added back by InteractiveShellApp.init_path()\n",
            "/usr/local/lib/python3.6/dist-packages/ipykernel_launcher.py:13: FutureWarning: Method .as_matrix will be removed in a future version. Use .values instead.\n",
            "  del sys.path[0]\n"
          ],
          "name": "stderr"
        },
        {
          "output_type": "execute_result",
          "data": {
            "text/html": [
              "<div>\n",
              "<style scoped>\n",
              "    .dataframe tbody tr th:only-of-type {\n",
              "        vertical-align: middle;\n",
              "    }\n",
              "\n",
              "    .dataframe tbody tr th {\n",
              "        vertical-align: top;\n",
              "    }\n",
              "\n",
              "    .dataframe thead th {\n",
              "        text-align: right;\n",
              "    }\n",
              "</style>\n",
              "<table border=\"1\" class=\"dataframe\">\n",
              "  <thead>\n",
              "    <tr style=\"text-align: right;\">\n",
              "      <th></th>\n",
              "      <th>functional score</th>\n",
              "      <th>num devices</th>\n",
              "      <th>political engagement</th>\n",
              "      <th>income category</th>\n",
              "      <th>education level</th>\n",
              "      <th>home internet connection</th>\n",
              "      <th>system design score</th>\n",
              "      <th>casual score</th>\n",
              "    </tr>\n",
              "  </thead>\n",
              "  <tbody>\n",
              "    <tr>\n",
              "      <th>0</th>\n",
              "      <td>12</td>\n",
              "      <td>7</td>\n",
              "      <td>16</td>\n",
              "      <td>4</td>\n",
              "      <td>2</td>\n",
              "      <td>1</td>\n",
              "      <td>2</td>\n",
              "      <td>24</td>\n",
              "    </tr>\n",
              "    <tr>\n",
              "      <th>1</th>\n",
              "      <td>23</td>\n",
              "      <td>5</td>\n",
              "      <td>25</td>\n",
              "      <td>6</td>\n",
              "      <td>2</td>\n",
              "      <td>2</td>\n",
              "      <td>18</td>\n",
              "      <td>31</td>\n",
              "    </tr>\n",
              "    <tr>\n",
              "      <th>2</th>\n",
              "      <td>26</td>\n",
              "      <td>2</td>\n",
              "      <td>16</td>\n",
              "      <td>9</td>\n",
              "      <td>4</td>\n",
              "      <td>2</td>\n",
              "      <td>11</td>\n",
              "      <td>38</td>\n",
              "    </tr>\n",
              "    <tr>\n",
              "      <th>3</th>\n",
              "      <td>24</td>\n",
              "      <td>2</td>\n",
              "      <td>32</td>\n",
              "      <td>9</td>\n",
              "      <td>3</td>\n",
              "      <td>1</td>\n",
              "      <td>8</td>\n",
              "      <td>40</td>\n",
              "    </tr>\n",
              "    <tr>\n",
              "      <th>4</th>\n",
              "      <td>23</td>\n",
              "      <td>5</td>\n",
              "      <td>23</td>\n",
              "      <td>3</td>\n",
              "      <td>5</td>\n",
              "      <td>2</td>\n",
              "      <td>8</td>\n",
              "      <td>36</td>\n",
              "    </tr>\n",
              "    <tr>\n",
              "      <th>...</th>\n",
              "      <td>...</td>\n",
              "      <td>...</td>\n",
              "      <td>...</td>\n",
              "      <td>...</td>\n",
              "      <td>...</td>\n",
              "      <td>...</td>\n",
              "      <td>...</td>\n",
              "      <td>...</td>\n",
              "    </tr>\n",
              "    <tr>\n",
              "      <th>307</th>\n",
              "      <td>15</td>\n",
              "      <td>4</td>\n",
              "      <td>20</td>\n",
              "      <td>3</td>\n",
              "      <td>2</td>\n",
              "      <td>-2</td>\n",
              "      <td>0</td>\n",
              "      <td>36</td>\n",
              "    </tr>\n",
              "    <tr>\n",
              "      <th>308</th>\n",
              "      <td>4</td>\n",
              "      <td>4</td>\n",
              "      <td>11</td>\n",
              "      <td>1</td>\n",
              "      <td>1</td>\n",
              "      <td>2</td>\n",
              "      <td>6</td>\n",
              "      <td>18</td>\n",
              "    </tr>\n",
              "    <tr>\n",
              "      <th>309</th>\n",
              "      <td>5</td>\n",
              "      <td>6</td>\n",
              "      <td>28</td>\n",
              "      <td>4</td>\n",
              "      <td>1</td>\n",
              "      <td>-1</td>\n",
              "      <td>1</td>\n",
              "      <td>10</td>\n",
              "    </tr>\n",
              "    <tr>\n",
              "      <th>310</th>\n",
              "      <td>12</td>\n",
              "      <td>1</td>\n",
              "      <td>30</td>\n",
              "      <td>4</td>\n",
              "      <td>2</td>\n",
              "      <td>1</td>\n",
              "      <td>10</td>\n",
              "      <td>37</td>\n",
              "    </tr>\n",
              "    <tr>\n",
              "      <th>311</th>\n",
              "      <td>4</td>\n",
              "      <td>6</td>\n",
              "      <td>17</td>\n",
              "      <td>4</td>\n",
              "      <td>5</td>\n",
              "      <td>1</td>\n",
              "      <td>2</td>\n",
              "      <td>7</td>\n",
              "    </tr>\n",
              "  </tbody>\n",
              "</table>\n",
              "<p>312 rows × 8 columns</p>\n",
              "</div>"
            ],
            "text/plain": [
              "     functional score  num devices  ...  system design score  casual score\n",
              "0                  12            7  ...                    2            24\n",
              "1                  23            5  ...                   18            31\n",
              "2                  26            2  ...                   11            38\n",
              "3                  24            2  ...                    8            40\n",
              "4                  23            5  ...                    8            36\n",
              "..                ...          ...  ...                  ...           ...\n",
              "307                15            4  ...                    0            36\n",
              "308                 4            4  ...                    6            18\n",
              "309                 5            6  ...                    1            10\n",
              "310                12            1  ...                   10            37\n",
              "311                 4            6  ...                    2             7\n",
              "\n",
              "[312 rows x 8 columns]"
            ]
          },
          "metadata": {
            "tags": []
          },
          "execution_count": 46
        }
      ]
    },
    {
      "cell_type": "code",
      "metadata": {
        "id": "J0RBcG4VH7rk",
        "colab_type": "code",
        "outputId": "1f2b7aab-bdb9-4adb-baab-aa44c1cce915",
        "colab": {
          "base_uri": "https://localhost:8080/",
          "height": 35
        }
      },
      "source": [
        "sample_incomplete_rows = new_features[new_features.isnull().any(axis=1)]\n",
        "print(len(sample_incomplete_rows))"
      ],
      "execution_count": 0,
      "outputs": [
        {
          "output_type": "stream",
          "text": [
            "0\n"
          ],
          "name": "stdout"
        }
      ]
    },
    {
      "cell_type": "code",
      "metadata": {
        "id": "Wxkx1iBrCnoj",
        "colab_type": "code",
        "colab": {}
      },
      "source": [
        "from sklearn.preprocessing import StandardScaler\n",
        "ss = StandardScaler()\n",
        "ss.fit_transform(new_features)\n",
        "\n",
        "from sklearn.cluster import KMeans\n",
        "k = 4\n",
        "kmeans = KMeans(n_clusters=k, random_state=42)\n",
        "y_pred = kmeans.fit_predict(new_features) + 1"
      ],
      "execution_count": 0,
      "outputs": []
    },
    {
      "cell_type": "code",
      "metadata": {
        "id": "Y5b-tHkHDAG8",
        "colab_type": "code",
        "outputId": "d3ed1d18-1df3-4c68-9286-d195550327da",
        "colab": {
          "base_uri": "https://localhost:8080/",
          "height": 158
        }
      },
      "source": [
        "kmeans.cluster_centers_"
      ],
      "execution_count": 0,
      "outputs": [
        {
          "output_type": "execute_result",
          "data": {
            "text/plain": [
              "array([[20.48809524, 13.78571429,  4.42857143,  2.27380952,  1.33333333,\n",
              "         6.79761905, 33.69047619],\n",
              "       [ 1.78688525, 16.24590164,  2.98360656,  1.3442623 ,  0.06557377,\n",
              "         0.42622951,  8.80327869],\n",
              "       [22.87356322, 25.54022989,  5.40229885,  3.03448276,  1.36781609,\n",
              "         9.03448276, 35.70114943],\n",
              "       [10.2125    , 18.8375    ,  4.025     ,  1.9125    ,  1.175     ,\n",
              "         1.8875    , 27.025     ]])"
            ]
          },
          "metadata": {
            "tags": []
          },
          "execution_count": 64
        }
      ]
    },
    {
      "cell_type": "code",
      "metadata": {
        "id": "3jllpI5nDCWF",
        "colab_type": "code",
        "outputId": "12614ff5-92ee-4ae2-c564-12606a462b85",
        "colab": {
          "base_uri": "https://localhost:8080/",
          "height": 35
        }
      },
      "source": [
        "from collections import Counter, defaultdict\n",
        "print(Counter(kmeans.labels_))"
      ],
      "execution_count": 0,
      "outputs": [
        {
          "output_type": "stream",
          "text": [
            "Counter({2: 87, 0: 84, 3: 80, 1: 61})\n"
          ],
          "name": "stdout"
        }
      ]
    },
    {
      "cell_type": "code",
      "metadata": {
        "id": "whmhi-PKT4l3",
        "colab_type": "code",
        "outputId": "a8612384-25a2-4642-c864-70221cbb994c",
        "colab": {
          "base_uri": "https://localhost:8080/",
          "height": 580
        }
      },
      "source": [
        "for i in range(len(kmeans.cluster_centers_)):\n",
        "  print(\"Cluster {}:\".format(i+1))\n",
        "  for j in range(len(kmeans.cluster_centers_[0])):\n",
        "    print('\\t {}: {}'.format(new_features.columns[j], round(kmeans.cluster_centers_[i][j], 2)))"
      ],
      "execution_count": 0,
      "outputs": [
        {
          "output_type": "stream",
          "text": [
            "Cluster 1:\n",
            "\t functional score: 20.49\n",
            "\t political engagement: 13.79\n",
            "\t income category: 4.43\n",
            "\t education level: 2.27\n",
            "\t home internet connection: 1.33\n",
            "\t system design score: 6.8\n",
            "\t casual score: 33.69\n",
            "Cluster 2:\n",
            "\t functional score: 1.79\n",
            "\t political engagement: 16.25\n",
            "\t income category: 2.98\n",
            "\t education level: 1.34\n",
            "\t home internet connection: 0.07\n",
            "\t system design score: 0.43\n",
            "\t casual score: 8.8\n",
            "Cluster 3:\n",
            "\t functional score: 22.87\n",
            "\t political engagement: 25.54\n",
            "\t income category: 5.4\n",
            "\t education level: 3.03\n",
            "\t home internet connection: 1.37\n",
            "\t system design score: 9.03\n",
            "\t casual score: 35.7\n",
            "Cluster 4:\n",
            "\t functional score: 10.21\n",
            "\t political engagement: 18.84\n",
            "\t income category: 4.03\n",
            "\t education level: 1.91\n",
            "\t home internet connection: 1.18\n",
            "\t system design score: 1.89\n",
            "\t casual score: 27.02\n"
          ],
          "name": "stdout"
        }
      ]
    },
    {
      "cell_type": "code",
      "metadata": {
        "id": "sMQMP4xSjzV-",
        "colab_type": "code",
        "colab": {}
      },
      "source": [
        "new_features = new_features.drop(['num devices'], axis=1)"
      ],
      "execution_count": 0,
      "outputs": []
    }
  ]
}